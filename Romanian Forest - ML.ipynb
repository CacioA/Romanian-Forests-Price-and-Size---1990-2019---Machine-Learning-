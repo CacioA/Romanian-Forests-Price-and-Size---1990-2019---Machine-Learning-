{
 "cells": [
  {
   "cell_type": "code",
   "execution_count": 2,
   "metadata": {},
   "outputs": [],
   "source": [
    "import pandas as pd\n",
    "import numpy as np\n",
    "import matplotlib.pyplot as plt\n",
    "import seaborn as sns\n",
    "from sklearn.model_selection import train_test_split\n",
    "from sklearn.model_selection import cross_val_score\n",
    "\n",
    "from sklearn.preprocessing import LabelEncoder\n",
    "from sklearn.preprocessing import OneHotEncoder\n",
    "from sklearn.compose import ColumnTransformer\n",
    "from sklearn import metrics"
   ]
  },
  {
   "cell_type": "code",
   "execution_count": 3,
   "metadata": {},
   "outputs": [],
   "source": [
    "df=pd.read_csv(\"Data/ForestRomania.csv\")"
   ]
  },
  {
   "cell_type": "code",
   "execution_count": 4,
   "metadata": {},
   "outputs": [],
   "source": [
    "df=df.drop(\"Unit\",axis=1) #Dropping Unit feature as it has only one value"
   ]
  },
  {
   "cell_type": "code",
   "execution_count": 5,
   "metadata": {},
   "outputs": [],
   "source": [
    "df[\"Year\"]=pd.to_datetime(df.Year,format='%Y')\n",
    "df[\"Year\"]=df.Year.dt.year"
   ]
  },
  {
   "cell_type": "code",
   "execution_count": 6,
   "metadata": {},
   "outputs": [
    {
     "data": {
      "text/html": [
       "<div>\n",
       "<style scoped>\n",
       "    .dataframe tbody tr th:only-of-type {\n",
       "        vertical-align: middle;\n",
       "    }\n",
       "\n",
       "    .dataframe tbody tr th {\n",
       "        vertical-align: top;\n",
       "    }\n",
       "\n",
       "    .dataframe thead th {\n",
       "        text-align: right;\n",
       "    }\n",
       "</style>\n",
       "<table border=\"1\" class=\"dataframe\">\n",
       "  <thead>\n",
       "    <tr style=\"text-align: right;\">\n",
       "      <th></th>\n",
       "      <th>Category</th>\n",
       "      <th>Region</th>\n",
       "      <th>Year</th>\n",
       "      <th>Value</th>\n",
       "    </tr>\n",
       "  </thead>\n",
       "  <tbody>\n",
       "    <tr>\n",
       "      <th>0</th>\n",
       "      <td>Total</td>\n",
       "      <td>TOTAL</td>\n",
       "      <td>1990</td>\n",
       "      <td>6371.0</td>\n",
       "    </tr>\n",
       "    <tr>\n",
       "      <th>1</th>\n",
       "      <td>Total</td>\n",
       "      <td>TOTAL</td>\n",
       "      <td>1991</td>\n",
       "      <td>6367.6</td>\n",
       "    </tr>\n",
       "    <tr>\n",
       "      <th>2</th>\n",
       "      <td>Total</td>\n",
       "      <td>TOTAL</td>\n",
       "      <td>1992</td>\n",
       "      <td>6368.2</td>\n",
       "    </tr>\n",
       "    <tr>\n",
       "      <th>3</th>\n",
       "      <td>Total</td>\n",
       "      <td>TOTAL</td>\n",
       "      <td>1993</td>\n",
       "      <td>6366.9</td>\n",
       "    </tr>\n",
       "    <tr>\n",
       "      <th>4</th>\n",
       "      <td>Total</td>\n",
       "      <td>TOTAL</td>\n",
       "      <td>1994</td>\n",
       "      <td>6369.0</td>\n",
       "    </tr>\n",
       "  </tbody>\n",
       "</table>\n",
       "</div>"
      ],
      "text/plain": [
       "  Category Region  Year   Value\n",
       "0    Total  TOTAL  1990  6371.0\n",
       "1    Total  TOTAL  1991  6367.6\n",
       "2    Total  TOTAL  1992  6368.2\n",
       "3    Total  TOTAL  1993  6366.9\n",
       "4    Total  TOTAL  1994  6369.0"
      ]
     },
     "execution_count": 6,
     "metadata": {},
     "output_type": "execute_result"
    }
   ],
   "source": [
    "df.head()"
   ]
  },
  {
   "cell_type": "markdown",
   "metadata": {},
   "source": [
    "# One Hot"
   ]
  },
  {
   "cell_type": "code",
   "execution_count": 7,
   "metadata": {},
   "outputs": [],
   "source": [
    "features=[\"Category\",\"Region\"] #Features to be converted by OneHotEncoder\n",
    "\n",
    "one_hot = OneHotEncoder()\n",
    "transformer=ColumnTransformer([(\"one_hot\",one_hot,\n",
    "                               features)],\n",
    "                             remainder=\"passthrough\")"
   ]
  },
  {
   "cell_type": "code",
   "execution_count": 8,
   "metadata": {},
   "outputs": [],
   "source": [
    "df=df.fillna(method='ffill')"
   ]
  },
  {
   "cell_type": "code",
   "execution_count": 9,
   "metadata": {},
   "outputs": [],
   "source": [
    "X=df.drop(\"Value\",axis=1)\n",
    "Y=df[\"Value\"]"
   ]
  },
  {
   "cell_type": "code",
   "execution_count": 10,
   "metadata": {},
   "outputs": [],
   "source": [
    "X_transformed=transformer.fit_transform(X)"
   ]
  },
  {
   "cell_type": "code",
   "execution_count": 66,
   "metadata": {},
   "outputs": [
    {
     "ename": "ValueError",
     "evalue": "Cannot center sparse matrices: pass `with_mean=False` instead. See docstring for motivation and alternatives.",
     "output_type": "error",
     "traceback": [
      "\u001b[1;31m---------------------------------------------------------------------------\u001b[0m",
      "\u001b[1;31mValueError\u001b[0m                                Traceback (most recent call last)",
      "\u001b[1;32m<ipython-input-66-30d8a3e0c86a>\u001b[0m in \u001b[0;36m<module>\u001b[1;34m\u001b[0m\n\u001b[1;32m----> 1\u001b[1;33m \u001b[0mX_transformed\u001b[0m\u001b[1;33m=\u001b[0m\u001b[0mpreprocessing\u001b[0m\u001b[1;33m.\u001b[0m\u001b[0mStandardScaler\u001b[0m\u001b[1;33m(\u001b[0m\u001b[1;33m)\u001b[0m\u001b[1;33m.\u001b[0m\u001b[0mfit_transform\u001b[0m\u001b[1;33m(\u001b[0m\u001b[0mX_transformed\u001b[0m\u001b[1;33m)\u001b[0m\u001b[1;33m\u001b[0m\u001b[1;33m\u001b[0m\u001b[0m\n\u001b[0m",
      "\u001b[1;32m~\\anaconda3\\lib\\site-packages\\sklearn\\base.py\u001b[0m in \u001b[0;36mfit_transform\u001b[1;34m(self, X, y, **fit_params)\u001b[0m\n\u001b[0;32m    688\u001b[0m         \u001b[1;32mif\u001b[0m \u001b[0my\u001b[0m \u001b[1;32mis\u001b[0m \u001b[1;32mNone\u001b[0m\u001b[1;33m:\u001b[0m\u001b[1;33m\u001b[0m\u001b[1;33m\u001b[0m\u001b[0m\n\u001b[0;32m    689\u001b[0m             \u001b[1;31m# fit method of arity 1 (unsupervised transformation)\u001b[0m\u001b[1;33m\u001b[0m\u001b[1;33m\u001b[0m\u001b[1;33m\u001b[0m\u001b[0m\n\u001b[1;32m--> 690\u001b[1;33m             \u001b[1;32mreturn\u001b[0m \u001b[0mself\u001b[0m\u001b[1;33m.\u001b[0m\u001b[0mfit\u001b[0m\u001b[1;33m(\u001b[0m\u001b[0mX\u001b[0m\u001b[1;33m,\u001b[0m \u001b[1;33m**\u001b[0m\u001b[0mfit_params\u001b[0m\u001b[1;33m)\u001b[0m\u001b[1;33m.\u001b[0m\u001b[0mtransform\u001b[0m\u001b[1;33m(\u001b[0m\u001b[0mX\u001b[0m\u001b[1;33m)\u001b[0m\u001b[1;33m\u001b[0m\u001b[1;33m\u001b[0m\u001b[0m\n\u001b[0m\u001b[0;32m    691\u001b[0m         \u001b[1;32melse\u001b[0m\u001b[1;33m:\u001b[0m\u001b[1;33m\u001b[0m\u001b[1;33m\u001b[0m\u001b[0m\n\u001b[0;32m    692\u001b[0m             \u001b[1;31m# fit method of arity 2 (supervised transformation)\u001b[0m\u001b[1;33m\u001b[0m\u001b[1;33m\u001b[0m\u001b[1;33m\u001b[0m\u001b[0m\n",
      "\u001b[1;32m~\\anaconda3\\lib\\site-packages\\sklearn\\preprocessing\\_data.py\u001b[0m in \u001b[0;36mfit\u001b[1;34m(self, X, y)\u001b[0m\n\u001b[0;32m    665\u001b[0m         \u001b[1;31m# Reset internal state before fitting\u001b[0m\u001b[1;33m\u001b[0m\u001b[1;33m\u001b[0m\u001b[1;33m\u001b[0m\u001b[0m\n\u001b[0;32m    666\u001b[0m         \u001b[0mself\u001b[0m\u001b[1;33m.\u001b[0m\u001b[0m_reset\u001b[0m\u001b[1;33m(\u001b[0m\u001b[1;33m)\u001b[0m\u001b[1;33m\u001b[0m\u001b[1;33m\u001b[0m\u001b[0m\n\u001b[1;32m--> 667\u001b[1;33m         \u001b[1;32mreturn\u001b[0m \u001b[0mself\u001b[0m\u001b[1;33m.\u001b[0m\u001b[0mpartial_fit\u001b[0m\u001b[1;33m(\u001b[0m\u001b[0mX\u001b[0m\u001b[1;33m,\u001b[0m \u001b[0my\u001b[0m\u001b[1;33m)\u001b[0m\u001b[1;33m\u001b[0m\u001b[1;33m\u001b[0m\u001b[0m\n\u001b[0m\u001b[0;32m    668\u001b[0m \u001b[1;33m\u001b[0m\u001b[0m\n\u001b[0;32m    669\u001b[0m     \u001b[1;32mdef\u001b[0m \u001b[0mpartial_fit\u001b[0m\u001b[1;33m(\u001b[0m\u001b[0mself\u001b[0m\u001b[1;33m,\u001b[0m \u001b[0mX\u001b[0m\u001b[1;33m,\u001b[0m \u001b[0my\u001b[0m\u001b[1;33m=\u001b[0m\u001b[1;32mNone\u001b[0m\u001b[1;33m)\u001b[0m\u001b[1;33m:\u001b[0m\u001b[1;33m\u001b[0m\u001b[1;33m\u001b[0m\u001b[0m\n",
      "\u001b[1;32m~\\anaconda3\\lib\\site-packages\\sklearn\\preprocessing\\_data.py\u001b[0m in \u001b[0;36mpartial_fit\u001b[1;34m(self, X, y)\u001b[0m\n\u001b[0;32m    712\u001b[0m         \u001b[1;32mif\u001b[0m \u001b[0msparse\u001b[0m\u001b[1;33m.\u001b[0m\u001b[0missparse\u001b[0m\u001b[1;33m(\u001b[0m\u001b[0mX\u001b[0m\u001b[1;33m)\u001b[0m\u001b[1;33m:\u001b[0m\u001b[1;33m\u001b[0m\u001b[1;33m\u001b[0m\u001b[0m\n\u001b[0;32m    713\u001b[0m             \u001b[1;32mif\u001b[0m \u001b[0mself\u001b[0m\u001b[1;33m.\u001b[0m\u001b[0mwith_mean\u001b[0m\u001b[1;33m:\u001b[0m\u001b[1;33m\u001b[0m\u001b[1;33m\u001b[0m\u001b[0m\n\u001b[1;32m--> 714\u001b[1;33m                 raise ValueError(\n\u001b[0m\u001b[0;32m    715\u001b[0m                     \u001b[1;34m\"Cannot center sparse matrices: pass `with_mean=False` \"\u001b[0m\u001b[1;33m\u001b[0m\u001b[1;33m\u001b[0m\u001b[0m\n\u001b[0;32m    716\u001b[0m                     \"instead. See docstring for motivation and alternatives.\")\n",
      "\u001b[1;31mValueError\u001b[0m: Cannot center sparse matrices: pass `with_mean=False` instead. See docstring for motivation and alternatives."
     ]
    }
   ],
   "source": [
    "X_transformed=preprocessing.StandardScaler().fit_transform(X_transformed)"
   ]
  },
  {
   "cell_type": "code",
   "execution_count": 11,
   "metadata": {},
   "outputs": [],
   "source": [
    "#Using X_transformed as X\n",
    "X_train,X_test,Y_train,Y_test=train_test_split(X_transformed,Y,test_size=0.3,random_state=99)"
   ]
  },
  {
   "cell_type": "markdown",
   "metadata": {},
   "source": [
    "# Algorithms"
   ]
  },
  {
   "cell_type": "code",
   "execution_count": 12,
   "metadata": {},
   "outputs": [],
   "source": [
    "from sklearn.linear_model import LinearRegression\n",
    "from sklearn.tree import DecisionTreeRegressor\n",
    "from sklearn.ensemble import RandomForestRegressor\n",
    "\n",
    "#instantiating the models\n",
    "\n",
    "lr = LinearRegression()\n",
    "dtr = DecisionTreeRegressor()"
   ]
  },
  {
   "cell_type": "code",
   "execution_count": 13,
   "metadata": {},
   "outputs": [],
   "source": [
    "rfr = RandomForestRegressor()"
   ]
  },
  {
   "cell_type": "markdown",
   "metadata": {},
   "source": [
    "# Metrics function"
   ]
  },
  {
   "cell_type": "code",
   "execution_count": 14,
   "metadata": {},
   "outputs": [],
   "source": [
    "def model_metrics(Y_test_metric,Y_preds_metric):\n",
    "    print('MAE:', metrics.mean_absolute_error(Y_test_metric, Y_preds_metric))\n",
    "    print('MSE:', metrics.mean_squared_error(Y_test_metric, Y_preds_metric))    "
   ]
  },
  {
   "cell_type": "markdown",
   "metadata": {},
   "source": [
    "> **Metrics -** model performance: \n",
    "    > - Cross Validation\n",
    "    > - Mean absolute error\n",
    "    > - Mean square absolute error\n",
    "    > - R Squared\n",
    "    \n",
    "\n",
    "    "
   ]
  },
  {
   "cell_type": "markdown",
   "metadata": {},
   "source": [
    "# Linear Reg - OneHot"
   ]
  },
  {
   "cell_type": "code",
   "execution_count": 15,
   "metadata": {},
   "outputs": [
    {
     "name": "stdout",
     "output_type": "stream",
     "text": [
      "Duration: 0:00:00.056917\n"
     ]
    }
   ],
   "source": [
    "from datetime import datetime\n",
    "start_time = datetime.now()\n",
    "lr.fit(X_train,Y_train)\n",
    "end_time = datetime.now()\n",
    "print('Duration: {}'.format(end_time - start_time))\n"
   ]
  },
  {
   "cell_type": "code",
   "execution_count": 21,
   "metadata": {},
   "outputs": [
    {
     "name": "stdout",
     "output_type": "stream",
     "text": [
      "Duration: 0:00:00\n"
     ]
    }
   ],
   "source": [
    "\n",
    "start_time = datetime.now()\n",
    "Y_preds_lr=lr.predict(X_test)\n",
    "end_time = datetime.now()\n",
    "print('Duration: {}'.format(end_time - start_time))\n",
    "\n"
   ]
  },
  {
   "cell_type": "code",
   "execution_count": 16,
   "metadata": {},
   "outputs": [
    {
     "data": {
      "text/plain": [
       "-8485.196578543259"
      ]
     },
     "execution_count": 16,
     "metadata": {},
     "output_type": "execute_result"
    }
   ],
   "source": [
    "    cross_val_score(lr,X_transformed,Y,cv=5).mean()"
   ]
  },
  {
   "cell_type": "code",
   "execution_count": 17,
   "metadata": {},
   "outputs": [
    {
     "name": "stdout",
     "output_type": "stream",
     "text": [
      "MAE: 184.01769532947029\n",
      "MSE: 140389.35951695289\n"
     ]
    }
   ],
   "source": [
    "model_metrics(Y_test,Y_preds_lr)"
   ]
  },
  {
   "cell_type": "code",
   "execution_count": 18,
   "metadata": {},
   "outputs": [
    {
     "data": {
      "text/plain": [
       "0.7555003590786518"
      ]
     },
     "execution_count": 18,
     "metadata": {},
     "output_type": "execute_result"
    }
   ],
   "source": [
    "lr.score(X_test,Y_test)"
   ]
  },
  {
   "cell_type": "markdown",
   "metadata": {},
   "source": [
    "# Random Forest - OneHot"
   ]
  },
  {
   "cell_type": "code",
   "execution_count": 22,
   "metadata": {},
   "outputs": [
    {
     "name": "stdout",
     "output_type": "stream",
     "text": [
      "Duration: 0:00:10.920657\n"
     ]
    }
   ],
   "source": [
    "start_time = datetime.now()\n",
    "rfr.fit(X_train,Y_train)\n",
    "\n",
    "end_time = datetime.now()\n",
    "print('Duration: {}'.format(end_time - start_time))"
   ]
  },
  {
   "cell_type": "code",
   "execution_count": 23,
   "metadata": {},
   "outputs": [
    {
     "name": "stdout",
     "output_type": "stream",
     "text": [
      "Duration: 0:00:00.143468\n"
     ]
    }
   ],
   "source": [
    "start_time = datetime.now()\n",
    "Y_preds_rfr = rfr.predict(X_test)\n",
    "\n",
    "end_time = datetime.now()\n",
    "print('Duration: {}'.format(end_time - start_time))\n"
   ]
  },
  {
   "cell_type": "code",
   "execution_count": 24,
   "metadata": {},
   "outputs": [
    {
     "name": "stdout",
     "output_type": "stream",
     "text": [
      "MAE: 1.0185427280197374\n",
      "MSE: 6.179537632293081\n"
     ]
    }
   ],
   "source": [
    "model_metrics(Y_test,Y_preds_rfr)"
   ]
  },
  {
   "cell_type": "code",
   "execution_count": 25,
   "metadata": {},
   "outputs": [
    {
     "data": {
      "text/plain": [
       "0.9999892378258769"
      ]
     },
     "execution_count": 25,
     "metadata": {},
     "output_type": "execute_result"
    }
   ],
   "source": [
    "rfr.score(X_test,Y_test)"
   ]
  },
  {
   "cell_type": "code",
   "execution_count": 26,
   "metadata": {},
   "outputs": [
    {
     "data": {
      "text/plain": [
       "-144.1535928125382"
      ]
     },
     "execution_count": 26,
     "metadata": {},
     "output_type": "execute_result"
    }
   ],
   "source": [
    "    cross_val_score(rfr,X_transformed,Y,cv=5).mean()"
   ]
  },
  {
   "cell_type": "markdown",
   "metadata": {},
   "source": [
    "# SVR - OneHot"
   ]
  },
  {
   "cell_type": "code",
   "execution_count": 27,
   "metadata": {},
   "outputs": [],
   "source": [
    "from sklearn.svm import SVR\n",
    "svr=SVR()"
   ]
  },
  {
   "cell_type": "code",
   "execution_count": 29,
   "metadata": {},
   "outputs": [
    {
     "name": "stdout",
     "output_type": "stream",
     "text": [
      "Duration: 0:00:03.599121\n"
     ]
    }
   ],
   "source": [
    "start_time = datetime.now()\n",
    "svr.fit(X_train,Y_train)\n",
    "\n",
    "\n",
    "end_time = datetime.now()\n",
    "print('Duration: {}'.format(end_time - start_time))\n"
   ]
  },
  {
   "cell_type": "code",
   "execution_count": 30,
   "metadata": {},
   "outputs": [
    {
     "name": "stdout",
     "output_type": "stream",
     "text": [
      "Duration: 0:00:00.919844\n"
     ]
    }
   ],
   "source": [
    "start_time = datetime.now()\n",
    "Y_preds_svr=svr.predict(X_test)\n",
    "end_time = datetime.now()\n",
    "print('Duration: {}'.format(end_time - start_time))\n"
   ]
  },
  {
   "cell_type": "code",
   "execution_count": 31,
   "metadata": {},
   "outputs": [
    {
     "data": {
      "text/plain": [
       "-0.07825214911053502"
      ]
     },
     "execution_count": 31,
     "metadata": {},
     "output_type": "execute_result"
    }
   ],
   "source": [
    "svr.score(X_test,Y_test)"
   ]
  },
  {
   "cell_type": "code",
   "execution_count": 32,
   "metadata": {},
   "outputs": [
    {
     "data": {
      "text/plain": [
       "-5.824197641668337"
      ]
     },
     "execution_count": 32,
     "metadata": {},
     "output_type": "execute_result"
    }
   ],
   "source": [
    "    cross_val_score(svr,X_transformed,Y,cv=5).mean()"
   ]
  },
  {
   "cell_type": "code",
   "execution_count": 33,
   "metadata": {},
   "outputs": [
    {
     "name": "stdout",
     "output_type": "stream",
     "text": [
      "MAE: 276.07746071268633\n",
      "MSE: 619122.0896725203\n"
     ]
    }
   ],
   "source": [
    "model_metrics(Y_test,Y_preds_svr)"
   ]
  },
  {
   "cell_type": "markdown",
   "metadata": {},
   "source": [
    "# Label Encoder"
   ]
  },
  {
   "cell_type": "code",
   "execution_count": 34,
   "metadata": {},
   "outputs": [],
   "source": [
    "from sklearn import preprocessing"
   ]
  },
  {
   "cell_type": "code",
   "execution_count": 35,
   "metadata": {},
   "outputs": [],
   "source": [
    "le=LabelEncoder()\n",
    "# Splitting into Category and Region\n",
    "\n",
    "le_category = le.fit_transform(df[\"Category\"])\n",
    "le_region = le.fit_transform(df[\"Region\"])"
   ]
  },
  {
   "cell_type": "code",
   "execution_count": 36,
   "metadata": {},
   "outputs": [],
   "source": [
    "# Putting the features together by creating a dataframe\n",
    "X_transformed_le = pd.DataFrame({\n",
    "    'Region':le_region,\n",
    "    'Category':le_category,\n",
    "    'Year':df[\"Year\"]\n",
    "})"
   ]
  },
  {
   "cell_type": "code",
   "execution_count": 37,
   "metadata": {},
   "outputs": [],
   "source": [
    "X_transformed_le = preprocessing.StandardScaler().fit_transform(X_transformed_le)"
   ]
  },
  {
   "cell_type": "code",
   "execution_count": 38,
   "metadata": {},
   "outputs": [],
   "source": [
    "X_train_le,X_test_le,Y_train_le,Y_test_le=train_test_split(X_transformed_le,Y,test_size=0.3)"
   ]
  },
  {
   "cell_type": "markdown",
   "metadata": {},
   "source": [
    "# Linear Regression"
   ]
  },
  {
   "cell_type": "code",
   "execution_count": 39,
   "metadata": {},
   "outputs": [
    {
     "name": "stdout",
     "output_type": "stream",
     "text": [
      "Duration: 0:00:00.193307\n"
     ]
    }
   ],
   "source": [
    "start_time = datetime.now()\n",
    "lr.fit(X_train_le,Y_train_le)\n",
    "end_time = datetime.now()\n",
    "print('Duration: {}'.format(end_time - start_time))\n"
   ]
  },
  {
   "cell_type": "code",
   "execution_count": 40,
   "metadata": {},
   "outputs": [
    {
     "name": "stdout",
     "output_type": "stream",
     "text": [
      "Duration: 0:00:00.010679\n"
     ]
    }
   ],
   "source": [
    "start_time = datetime.now()\n",
    "Y_preds_lr = lr.predict(X_test_le)\n",
    "end_time = datetime.now()\n",
    "print('Duration: {}'.format(end_time - start_time))\n"
   ]
  },
  {
   "cell_type": "code",
   "execution_count": 41,
   "metadata": {},
   "outputs": [
    {
     "name": "stdout",
     "output_type": "stream",
     "text": [
      "MAE: 319.04354816513865\n",
      "MSE: 380361.52464073495\n"
     ]
    }
   ],
   "source": [
    "model_metrics(Y_test_le,Y_preds_lr)"
   ]
  },
  {
   "cell_type": "code",
   "execution_count": 42,
   "metadata": {},
   "outputs": [
    {
     "data": {
      "text/plain": [
       "0.05093456903055671"
      ]
     },
     "execution_count": 42,
     "metadata": {},
     "output_type": "execute_result"
    }
   ],
   "source": [
    "lr.score(X_test_le,Y_test_le)"
   ]
  },
  {
   "cell_type": "code",
   "execution_count": 55,
   "metadata": {},
   "outputs": [
    {
     "data": {
      "text/plain": [
       "-8485.196578543259"
      ]
     },
     "execution_count": 55,
     "metadata": {},
     "output_type": "execute_result"
    }
   ],
   "source": [
    "    cross_val_score(lr,X_transformed,Y,cv=5).mean()"
   ]
  },
  {
   "cell_type": "markdown",
   "metadata": {},
   "source": [
    "# Random Forest"
   ]
  },
  {
   "cell_type": "code",
   "execution_count": 43,
   "metadata": {},
   "outputs": [
    {
     "name": "stdout",
     "output_type": "stream",
     "text": [
      "Duration: 0:00:01.829460\n"
     ]
    }
   ],
   "source": [
    "start_time = datetime.now()\n",
    "rfr.fit(X_train_le,Y_train_le)\n",
    "end_time = datetime.now()\n",
    "print('Duration: {}'.format(end_time - start_time))\n"
   ]
  },
  {
   "cell_type": "code",
   "execution_count": 45,
   "metadata": {},
   "outputs": [
    {
     "name": "stdout",
     "output_type": "stream",
     "text": [
      "Duration: 0:00:00.102572\n"
     ]
    }
   ],
   "source": [
    "start_time = datetime.now()\n",
    "Y_preds_rfr = rfr.predict(X_test_le)\n",
    "end_time = datetime.now()\n",
    "print('Duration: {}'.format(end_time - start_time))\n"
   ]
  },
  {
   "cell_type": "code",
   "execution_count": 46,
   "metadata": {},
   "outputs": [
    {
     "name": "stdout",
     "output_type": "stream",
     "text": [
      "MAE: 0.9672444535743732\n",
      "MSE: 5.466672016023169\n"
     ]
    }
   ],
   "source": [
    "model_metrics(Y_test_le,Y_preds_rfr)"
   ]
  },
  {
   "cell_type": "code",
   "execution_count": 47,
   "metadata": {},
   "outputs": [
    {
     "name": "stdout",
     "output_type": "stream",
     "text": [
      "MAE: 0.9672444535743732\n",
      "MSE: 5.466672016023169\n"
     ]
    }
   ],
   "source": [
    "model_metrics(Y_test_le,Y_preds_rfr)"
   ]
  },
  {
   "cell_type": "code",
   "execution_count": 49,
   "metadata": {},
   "outputs": [
    {
     "data": {
      "text/plain": [
       "1.0"
      ]
     },
     "execution_count": 49,
     "metadata": {},
     "output_type": "execute_result"
    }
   ],
   "source": [
    "rfr.score(X_test_le,Y_preds_rfr)"
   ]
  },
  {
   "cell_type": "code",
   "execution_count": 61,
   "metadata": {},
   "outputs": [
    {
     "data": {
      "text/plain": [
       "-32.01070627443224"
      ]
     },
     "execution_count": 61,
     "metadata": {},
     "output_type": "execute_result"
    }
   ],
   "source": [
    "    cross_val_score(rfr,X_transformed_le,Y,cv=5).mean()"
   ]
  },
  {
   "cell_type": "markdown",
   "metadata": {},
   "source": [
    "# SVR"
   ]
  },
  {
   "cell_type": "code",
   "execution_count": 51,
   "metadata": {},
   "outputs": [
    {
     "name": "stdout",
     "output_type": "stream",
     "text": [
      "Duration: 0:00:02.838094\n"
     ]
    }
   ],
   "source": [
    "start_time = datetime.now()\n",
    "svr.fit(X_train_le,Y_train_le)\n",
    "\n",
    "\n",
    "end_time = datetime.now()\n",
    "print('Duration: {}'.format(end_time - start_time))\n"
   ]
  },
  {
   "cell_type": "code",
   "execution_count": 52,
   "metadata": {},
   "outputs": [
    {
     "name": "stdout",
     "output_type": "stream",
     "text": [
      "Duration: 0:00:00.645807\n"
     ]
    }
   ],
   "source": [
    "\n",
    "start_time = datetime.now()\n",
    "Y_preds_svr=svr.predict(X_test_le)\n",
    "end_time = datetime.now()\n",
    "print('Duration: {}'.format(end_time - start_time))"
   ]
  },
  {
   "cell_type": "code",
   "execution_count": 65,
   "metadata": {},
   "outputs": [
    {
     "name": "stdout",
     "output_type": "stream",
     "text": [
      "MAE: 231.12859401854786\n",
      "MSE: 414770.04522932915\n"
     ]
    }
   ],
   "source": [
    "model_metrics(Y_test_le,Y_preds_svr)"
   ]
  },
  {
   "cell_type": "code",
   "execution_count": 57,
   "metadata": {},
   "outputs": [
    {
     "data": {
      "text/plain": [
       "1.0"
      ]
     },
     "execution_count": 57,
     "metadata": {},
     "output_type": "execute_result"
    }
   ],
   "source": [
    "svr.score(X_test_le,Y_preds_svr)"
   ]
  },
  {
   "cell_type": "code",
   "execution_count": 64,
   "metadata": {},
   "outputs": [
    {
     "data": {
      "text/plain": [
       "-2.6967650509513605"
      ]
     },
     "execution_count": 64,
     "metadata": {},
     "output_type": "execute_result"
    }
   ],
   "source": [
    "    cross_val_score(svr,X_transformed_le,Y,cv=5).mean()"
   ]
  },
  {
   "cell_type": "markdown",
   "metadata": {},
   "source": [
    "# Check SVR for overfitting with validation"
   ]
  },
  {
   "cell_type": "code",
   "execution_count": 69,
   "metadata": {},
   "outputs": [],
   "source": [
    "X_train_1, X_test_1, y_train_1, y_test_1 = train_test_split(X_transformed_le, Y, test_size=0.2, random_state=1)\n",
    "\n",
    "X_train_1, X_val, y_train_1, y_val = train_test_split(X_train_1, y_train_1, test_size=0.25, random_state=1) # 0.25 x 0.8 = 0.2"
   ]
  },
  {
   "cell_type": "code",
   "execution_count": 70,
   "metadata": {},
   "outputs": [],
   "source": [
    "svr.fit(X_train_1,y_train_1)\n",
    "y_preds_svr_valid = svr.predict(X_val)"
   ]
  },
  {
   "cell_type": "code",
   "execution_count": 71,
   "metadata": {},
   "outputs": [
    {
     "name": "stdout",
     "output_type": "stream",
     "text": [
      "MAE: 243.84222100686497\n",
      "MSE: 528696.6538033817\n"
     ]
    }
   ],
   "source": [
    "model_metrics(y_val,y_preds_svr_valid)"
   ]
  },
  {
   "cell_type": "code",
   "execution_count": 72,
   "metadata": {},
   "outputs": [
    {
     "data": {
      "text/plain": [
       "-0.02872479556540486"
      ]
     },
     "execution_count": 72,
     "metadata": {},
     "output_type": "execute_result"
    }
   ],
   "source": [
    "svr.score(X_val,y_val)"
   ]
  },
  {
   "cell_type": "code",
   "execution_count": 73,
   "metadata": {},
   "outputs": [],
   "source": [
    "y_preds_svr_test= svr.predict(X_test_1)\n"
   ]
  },
  {
   "cell_type": "code",
   "execution_count": 74,
   "metadata": {},
   "outputs": [
    {
     "name": "stdout",
     "output_type": "stream",
     "text": [
      "MAE: 216.82227198679135\n",
      "MSE: 374609.7026370795\n"
     ]
    }
   ],
   "source": [
    "model_metrics(y_test_1,y_preds_svr_test)"
   ]
  },
  {
   "cell_type": "code",
   "execution_count": 75,
   "metadata": {},
   "outputs": [
    {
     "data": {
      "text/plain": [
       "-0.0245128082911219"
      ]
     },
     "execution_count": 75,
     "metadata": {},
     "output_type": "execute_result"
    }
   ],
   "source": [
    "svr.score(X_test_1,y_test_1)"
   ]
  },
  {
   "cell_type": "code",
   "execution_count": 79,
   "metadata": {},
   "outputs": [
    {
     "data": {
      "text/plain": [
       "-2.6967650509513605"
      ]
     },
     "execution_count": 79,
     "metadata": {},
     "output_type": "execute_result"
    }
   ],
   "source": [
    "    cross_val_score(svr,X_transformed_le,Y,cv=5).mean()"
   ]
  },
  {
   "cell_type": "markdown",
   "metadata": {},
   "source": [
    "# Check RF for overfitting with validation"
   ]
  },
  {
   "cell_type": "code",
   "execution_count": 77,
   "metadata": {},
   "outputs": [
    {
     "name": "stdout",
     "output_type": "stream",
     "text": [
      "MAE: 1.0225789149198403\n",
      "MSE: 6.222489935265006\n"
     ]
    }
   ],
   "source": [
    "rfr.fit(X_train_1,y_train_1)\n",
    "y_preds_rfr_valid = rfr.predict(X_val)\n",
    "model_metrics(y_val,y_preds_rfr_valid)"
   ]
  },
  {
   "cell_type": "code",
   "execution_count": 78,
   "metadata": {},
   "outputs": [
    {
     "data": {
      "text/plain": [
       "0.9999878924338929"
      ]
     },
     "execution_count": 78,
     "metadata": {},
     "output_type": "execute_result"
    }
   ],
   "source": [
    "rfr.score(X_val,y_val)"
   ]
  },
  {
   "cell_type": "code",
   "execution_count": 80,
   "metadata": {},
   "outputs": [
    {
     "data": {
      "text/plain": [
       "-31.624277862196116"
      ]
     },
     "execution_count": 80,
     "metadata": {},
     "output_type": "execute_result"
    }
   ],
   "source": [
    "    cross_val_score(rfr,X_transformed_le,Y,cv=5).mean()"
   ]
  },
  {
   "cell_type": "code",
   "execution_count": 81,
   "metadata": {},
   "outputs": [],
   "source": [
    "y_preds_rfr_test = rfr.predict(X_test_1)"
   ]
  },
  {
   "cell_type": "code",
   "execution_count": 82,
   "metadata": {},
   "outputs": [
    {
     "name": "stdout",
     "output_type": "stream",
     "text": [
      "MAE: 1.1515865680837971\n",
      "MSE: 9.701396271719023\n"
     ]
    }
   ],
   "source": [
    "model_metrics(y_test_1,y_preds_rfr_test)"
   ]
  },
  {
   "cell_type": "markdown",
   "metadata": {},
   "source": [
    "# GridSearchCV"
   ]
  },
  {
   "cell_type": "code",
   "execution_count": 83,
   "metadata": {},
   "outputs": [],
   "source": [
    "from sklearn.model_selection import GridSearchCV\n",
    "\n",
    "\n",
    "grid = {\"n_estimators\":[100,200,500],\n",
    "          \"max_depth\":[5,15],\n",
    "          \"max_features\":[\"auto\",\"sqrt\"],\n",
    "          \"min_samples_split\":[6,10],\n",
    "          \"min_samples_leaf\":[1,2]}\n"
   ]
  },
  {
   "cell_type": "code",
   "execution_count": 85,
   "metadata": {},
   "outputs": [
    {
     "name": "stdout",
     "output_type": "stream",
     "text": [
      "Fitting 5 folds for each of 48 candidates, totalling 240 fits\n",
      "[CV] max_depth=5, max_features=auto, min_samples_leaf=1, min_samples_split=6, n_estimators=100 \n"
     ]
    },
    {
     "name": "stderr",
     "output_type": "stream",
     "text": [
      "[Parallel(n_jobs=1)]: Using backend SequentialBackend with 1 concurrent workers.\n"
     ]
    },
    {
     "name": "stdout",
     "output_type": "stream",
     "text": [
      "[CV]  max_depth=5, max_features=auto, min_samples_leaf=1, min_samples_split=6, n_estimators=100, total=   0.6s\n",
      "[CV] max_depth=5, max_features=auto, min_samples_leaf=1, min_samples_split=6, n_estimators=100 \n"
     ]
    },
    {
     "name": "stderr",
     "output_type": "stream",
     "text": [
      "[Parallel(n_jobs=1)]: Done   1 out of   1 | elapsed:    0.5s remaining:    0.0s\n"
     ]
    },
    {
     "name": "stdout",
     "output_type": "stream",
     "text": [
      "[CV]  max_depth=5, max_features=auto, min_samples_leaf=1, min_samples_split=6, n_estimators=100, total=   0.6s\n",
      "[CV] max_depth=5, max_features=auto, min_samples_leaf=1, min_samples_split=6, n_estimators=100 \n",
      "[CV]  max_depth=5, max_features=auto, min_samples_leaf=1, min_samples_split=6, n_estimators=100, total=   0.6s\n",
      "[CV] max_depth=5, max_features=auto, min_samples_leaf=1, min_samples_split=6, n_estimators=100 \n",
      "[CV]  max_depth=5, max_features=auto, min_samples_leaf=1, min_samples_split=6, n_estimators=100, total=   0.6s\n",
      "[CV] max_depth=5, max_features=auto, min_samples_leaf=1, min_samples_split=6, n_estimators=100 \n",
      "[CV]  max_depth=5, max_features=auto, min_samples_leaf=1, min_samples_split=6, n_estimators=100, total=   0.6s\n",
      "[CV] max_depth=5, max_features=auto, min_samples_leaf=1, min_samples_split=6, n_estimators=200 \n",
      "[CV]  max_depth=5, max_features=auto, min_samples_leaf=1, min_samples_split=6, n_estimators=200, total=   1.1s\n",
      "[CV] max_depth=5, max_features=auto, min_samples_leaf=1, min_samples_split=6, n_estimators=200 \n",
      "[CV]  max_depth=5, max_features=auto, min_samples_leaf=1, min_samples_split=6, n_estimators=200, total=   1.2s\n",
      "[CV] max_depth=5, max_features=auto, min_samples_leaf=1, min_samples_split=6, n_estimators=200 \n",
      "[CV]  max_depth=5, max_features=auto, min_samples_leaf=1, min_samples_split=6, n_estimators=200, total=   1.2s\n",
      "[CV] max_depth=5, max_features=auto, min_samples_leaf=1, min_samples_split=6, n_estimators=200 \n",
      "[CV]  max_depth=5, max_features=auto, min_samples_leaf=1, min_samples_split=6, n_estimators=200, total=   1.2s\n",
      "[CV] max_depth=5, max_features=auto, min_samples_leaf=1, min_samples_split=6, n_estimators=200 \n",
      "[CV]  max_depth=5, max_features=auto, min_samples_leaf=1, min_samples_split=6, n_estimators=200, total=   1.2s\n",
      "[CV] max_depth=5, max_features=auto, min_samples_leaf=1, min_samples_split=6, n_estimators=500 \n",
      "[CV]  max_depth=5, max_features=auto, min_samples_leaf=1, min_samples_split=6, n_estimators=500, total=   2.9s\n",
      "[CV] max_depth=5, max_features=auto, min_samples_leaf=1, min_samples_split=6, n_estimators=500 \n",
      "[CV]  max_depth=5, max_features=auto, min_samples_leaf=1, min_samples_split=6, n_estimators=500, total=   3.4s\n",
      "[CV] max_depth=5, max_features=auto, min_samples_leaf=1, min_samples_split=6, n_estimators=500 \n",
      "[CV]  max_depth=5, max_features=auto, min_samples_leaf=1, min_samples_split=6, n_estimators=500, total=   3.0s\n",
      "[CV] max_depth=5, max_features=auto, min_samples_leaf=1, min_samples_split=6, n_estimators=500 \n",
      "[CV]  max_depth=5, max_features=auto, min_samples_leaf=1, min_samples_split=6, n_estimators=500, total=   3.0s\n",
      "[CV] max_depth=5, max_features=auto, min_samples_leaf=1, min_samples_split=6, n_estimators=500 \n",
      "[CV]  max_depth=5, max_features=auto, min_samples_leaf=1, min_samples_split=6, n_estimators=500, total=   3.2s\n",
      "[CV] max_depth=5, max_features=auto, min_samples_leaf=1, min_samples_split=10, n_estimators=100 \n",
      "[CV]  max_depth=5, max_features=auto, min_samples_leaf=1, min_samples_split=10, n_estimators=100, total=   0.6s\n",
      "[CV] max_depth=5, max_features=auto, min_samples_leaf=1, min_samples_split=10, n_estimators=100 \n",
      "[CV]  max_depth=5, max_features=auto, min_samples_leaf=1, min_samples_split=10, n_estimators=100, total=   0.6s\n",
      "[CV] max_depth=5, max_features=auto, min_samples_leaf=1, min_samples_split=10, n_estimators=100 \n",
      "[CV]  max_depth=5, max_features=auto, min_samples_leaf=1, min_samples_split=10, n_estimators=100, total=   0.6s\n",
      "[CV] max_depth=5, max_features=auto, min_samples_leaf=1, min_samples_split=10, n_estimators=100 \n",
      "[CV]  max_depth=5, max_features=auto, min_samples_leaf=1, min_samples_split=10, n_estimators=100, total=   0.6s\n",
      "[CV] max_depth=5, max_features=auto, min_samples_leaf=1, min_samples_split=10, n_estimators=100 \n",
      "[CV]  max_depth=5, max_features=auto, min_samples_leaf=1, min_samples_split=10, n_estimators=100, total=   0.8s\n",
      "[CV] max_depth=5, max_features=auto, min_samples_leaf=1, min_samples_split=10, n_estimators=200 \n",
      "[CV]  max_depth=5, max_features=auto, min_samples_leaf=1, min_samples_split=10, n_estimators=200, total=   1.3s\n",
      "[CV] max_depth=5, max_features=auto, min_samples_leaf=1, min_samples_split=10, n_estimators=200 \n",
      "[CV]  max_depth=5, max_features=auto, min_samples_leaf=1, min_samples_split=10, n_estimators=200, total=   1.5s\n",
      "[CV] max_depth=5, max_features=auto, min_samples_leaf=1, min_samples_split=10, n_estimators=200 \n",
      "[CV]  max_depth=5, max_features=auto, min_samples_leaf=1, min_samples_split=10, n_estimators=200, total=   1.5s\n",
      "[CV] max_depth=5, max_features=auto, min_samples_leaf=1, min_samples_split=10, n_estimators=200 \n",
      "[CV]  max_depth=5, max_features=auto, min_samples_leaf=1, min_samples_split=10, n_estimators=200, total=   1.2s\n",
      "[CV] max_depth=5, max_features=auto, min_samples_leaf=1, min_samples_split=10, n_estimators=200 \n",
      "[CV]  max_depth=5, max_features=auto, min_samples_leaf=1, min_samples_split=10, n_estimators=200, total=   1.2s\n",
      "[CV] max_depth=5, max_features=auto, min_samples_leaf=1, min_samples_split=10, n_estimators=500 \n",
      "[CV]  max_depth=5, max_features=auto, min_samples_leaf=1, min_samples_split=10, n_estimators=500, total=   2.8s\n",
      "[CV] max_depth=5, max_features=auto, min_samples_leaf=1, min_samples_split=10, n_estimators=500 \n",
      "[CV]  max_depth=5, max_features=auto, min_samples_leaf=1, min_samples_split=10, n_estimators=500, total=   3.0s\n",
      "[CV] max_depth=5, max_features=auto, min_samples_leaf=1, min_samples_split=10, n_estimators=500 \n",
      "[CV]  max_depth=5, max_features=auto, min_samples_leaf=1, min_samples_split=10, n_estimators=500, total=   3.0s\n",
      "[CV] max_depth=5, max_features=auto, min_samples_leaf=1, min_samples_split=10, n_estimators=500 \n",
      "[CV]  max_depth=5, max_features=auto, min_samples_leaf=1, min_samples_split=10, n_estimators=500, total=   3.0s\n",
      "[CV] max_depth=5, max_features=auto, min_samples_leaf=1, min_samples_split=10, n_estimators=500 \n",
      "[CV]  max_depth=5, max_features=auto, min_samples_leaf=1, min_samples_split=10, n_estimators=500, total=   3.1s\n",
      "[CV] max_depth=5, max_features=auto, min_samples_leaf=2, min_samples_split=6, n_estimators=100 \n",
      "[CV]  max_depth=5, max_features=auto, min_samples_leaf=2, min_samples_split=6, n_estimators=100, total=   0.6s\n",
      "[CV] max_depth=5, max_features=auto, min_samples_leaf=2, min_samples_split=6, n_estimators=100 \n",
      "[CV]  max_depth=5, max_features=auto, min_samples_leaf=2, min_samples_split=6, n_estimators=100, total=   0.6s\n",
      "[CV] max_depth=5, max_features=auto, min_samples_leaf=2, min_samples_split=6, n_estimators=100 \n",
      "[CV]  max_depth=5, max_features=auto, min_samples_leaf=2, min_samples_split=6, n_estimators=100, total=   0.6s\n",
      "[CV] max_depth=5, max_features=auto, min_samples_leaf=2, min_samples_split=6, n_estimators=100 \n",
      "[CV]  max_depth=5, max_features=auto, min_samples_leaf=2, min_samples_split=6, n_estimators=100, total=   0.6s\n",
      "[CV] max_depth=5, max_features=auto, min_samples_leaf=2, min_samples_split=6, n_estimators=100 \n",
      "[CV]  max_depth=5, max_features=auto, min_samples_leaf=2, min_samples_split=6, n_estimators=100, total=   0.7s\n",
      "[CV] max_depth=5, max_features=auto, min_samples_leaf=2, min_samples_split=6, n_estimators=200 \n",
      "[CV]  max_depth=5, max_features=auto, min_samples_leaf=2, min_samples_split=6, n_estimators=200, total=   1.1s\n",
      "[CV] max_depth=5, max_features=auto, min_samples_leaf=2, min_samples_split=6, n_estimators=200 \n",
      "[CV]  max_depth=5, max_features=auto, min_samples_leaf=2, min_samples_split=6, n_estimators=200, total=   1.0s\n",
      "[CV] max_depth=5, max_features=auto, min_samples_leaf=2, min_samples_split=6, n_estimators=200 \n",
      "[CV]  max_depth=5, max_features=auto, min_samples_leaf=2, min_samples_split=6, n_estimators=200, total=   1.2s\n",
      "[CV] max_depth=5, max_features=auto, min_samples_leaf=2, min_samples_split=6, n_estimators=200 \n",
      "[CV]  max_depth=5, max_features=auto, min_samples_leaf=2, min_samples_split=6, n_estimators=200, total=   1.2s\n",
      "[CV] max_depth=5, max_features=auto, min_samples_leaf=2, min_samples_split=6, n_estimators=200 \n",
      "[CV]  max_depth=5, max_features=auto, min_samples_leaf=2, min_samples_split=6, n_estimators=200, total=   1.2s\n",
      "[CV] max_depth=5, max_features=auto, min_samples_leaf=2, min_samples_split=6, n_estimators=500 \n",
      "[CV]  max_depth=5, max_features=auto, min_samples_leaf=2, min_samples_split=6, n_estimators=500, total=   3.1s\n",
      "[CV] max_depth=5, max_features=auto, min_samples_leaf=2, min_samples_split=6, n_estimators=500 \n",
      "[CV]  max_depth=5, max_features=auto, min_samples_leaf=2, min_samples_split=6, n_estimators=500, total=   2.9s\n",
      "[CV] max_depth=5, max_features=auto, min_samples_leaf=2, min_samples_split=6, n_estimators=500 \n",
      "[CV]  max_depth=5, max_features=auto, min_samples_leaf=2, min_samples_split=6, n_estimators=500, total=   3.1s\n",
      "[CV] max_depth=5, max_features=auto, min_samples_leaf=2, min_samples_split=6, n_estimators=500 \n",
      "[CV]  max_depth=5, max_features=auto, min_samples_leaf=2, min_samples_split=6, n_estimators=500, total=   3.0s\n",
      "[CV] max_depth=5, max_features=auto, min_samples_leaf=2, min_samples_split=6, n_estimators=500 \n",
      "[CV]  max_depth=5, max_features=auto, min_samples_leaf=2, min_samples_split=6, n_estimators=500, total=   3.0s\n",
      "[CV] max_depth=5, max_features=auto, min_samples_leaf=2, min_samples_split=10, n_estimators=100 \n",
      "[CV]  max_depth=5, max_features=auto, min_samples_leaf=2, min_samples_split=10, n_estimators=100, total=   0.6s\n",
      "[CV] max_depth=5, max_features=auto, min_samples_leaf=2, min_samples_split=10, n_estimators=100 \n",
      "[CV]  max_depth=5, max_features=auto, min_samples_leaf=2, min_samples_split=10, n_estimators=100, total=   0.6s\n",
      "[CV] max_depth=5, max_features=auto, min_samples_leaf=2, min_samples_split=10, n_estimators=100 \n",
      "[CV]  max_depth=5, max_features=auto, min_samples_leaf=2, min_samples_split=10, n_estimators=100, total=   0.6s\n",
      "[CV] max_depth=5, max_features=auto, min_samples_leaf=2, min_samples_split=10, n_estimators=100 \n",
      "[CV]  max_depth=5, max_features=auto, min_samples_leaf=2, min_samples_split=10, n_estimators=100, total=   0.8s\n",
      "[CV] max_depth=5, max_features=auto, min_samples_leaf=2, min_samples_split=10, n_estimators=100 \n",
      "[CV]  max_depth=5, max_features=auto, min_samples_leaf=2, min_samples_split=10, n_estimators=100, total=   0.7s\n",
      "[CV] max_depth=5, max_features=auto, min_samples_leaf=2, min_samples_split=10, n_estimators=200 \n",
      "[CV]  max_depth=5, max_features=auto, min_samples_leaf=2, min_samples_split=10, n_estimators=200, total=   1.3s\n",
      "[CV] max_depth=5, max_features=auto, min_samples_leaf=2, min_samples_split=10, n_estimators=200 \n",
      "[CV]  max_depth=5, max_features=auto, min_samples_leaf=2, min_samples_split=10, n_estimators=200, total=   1.1s\n",
      "[CV] max_depth=5, max_features=auto, min_samples_leaf=2, min_samples_split=10, n_estimators=200 \n",
      "[CV]  max_depth=5, max_features=auto, min_samples_leaf=2, min_samples_split=10, n_estimators=200, total=   1.1s\n",
      "[CV] max_depth=5, max_features=auto, min_samples_leaf=2, min_samples_split=10, n_estimators=200 \n",
      "[CV]  max_depth=5, max_features=auto, min_samples_leaf=2, min_samples_split=10, n_estimators=200, total=   1.1s\n",
      "[CV] max_depth=5, max_features=auto, min_samples_leaf=2, min_samples_split=10, n_estimators=200 \n",
      "[CV]  max_depth=5, max_features=auto, min_samples_leaf=2, min_samples_split=10, n_estimators=200, total=   1.1s\n",
      "[CV] max_depth=5, max_features=auto, min_samples_leaf=2, min_samples_split=10, n_estimators=500 \n",
      "[CV]  max_depth=5, max_features=auto, min_samples_leaf=2, min_samples_split=10, n_estimators=500, total=   2.9s\n",
      "[CV] max_depth=5, max_features=auto, min_samples_leaf=2, min_samples_split=10, n_estimators=500 \n",
      "[CV]  max_depth=5, max_features=auto, min_samples_leaf=2, min_samples_split=10, n_estimators=500, total=   3.0s\n",
      "[CV] max_depth=5, max_features=auto, min_samples_leaf=2, min_samples_split=10, n_estimators=500 \n",
      "[CV]  max_depth=5, max_features=auto, min_samples_leaf=2, min_samples_split=10, n_estimators=500, total=   2.9s\n",
      "[CV] max_depth=5, max_features=auto, min_samples_leaf=2, min_samples_split=10, n_estimators=500 \n",
      "[CV]  max_depth=5, max_features=auto, min_samples_leaf=2, min_samples_split=10, n_estimators=500, total=   3.2s\n",
      "[CV] max_depth=5, max_features=auto, min_samples_leaf=2, min_samples_split=10, n_estimators=500 \n",
      "[CV]  max_depth=5, max_features=auto, min_samples_leaf=2, min_samples_split=10, n_estimators=500, total=   3.4s\n",
      "[CV] max_depth=5, max_features=sqrt, min_samples_leaf=1, min_samples_split=6, n_estimators=100 \n",
      "[CV]  max_depth=5, max_features=sqrt, min_samples_leaf=1, min_samples_split=6, n_estimators=100, total=   0.4s\n",
      "[CV] max_depth=5, max_features=sqrt, min_samples_leaf=1, min_samples_split=6, n_estimators=100 \n",
      "[CV]  max_depth=5, max_features=sqrt, min_samples_leaf=1, min_samples_split=6, n_estimators=100, total=   0.4s\n",
      "[CV] max_depth=5, max_features=sqrt, min_samples_leaf=1, min_samples_split=6, n_estimators=100 \n",
      "[CV]  max_depth=5, max_features=sqrt, min_samples_leaf=1, min_samples_split=6, n_estimators=100, total=   0.4s\n",
      "[CV] max_depth=5, max_features=sqrt, min_samples_leaf=1, min_samples_split=6, n_estimators=100 \n",
      "[CV]  max_depth=5, max_features=sqrt, min_samples_leaf=1, min_samples_split=6, n_estimators=100, total=   0.4s\n",
      "[CV] max_depth=5, max_features=sqrt, min_samples_leaf=1, min_samples_split=6, n_estimators=100 \n",
      "[CV]  max_depth=5, max_features=sqrt, min_samples_leaf=1, min_samples_split=6, n_estimators=100, total=   0.4s\n",
      "[CV] max_depth=5, max_features=sqrt, min_samples_leaf=1, min_samples_split=6, n_estimators=200 \n",
      "[CV]  max_depth=5, max_features=sqrt, min_samples_leaf=1, min_samples_split=6, n_estimators=200, total=   0.8s\n",
      "[CV] max_depth=5, max_features=sqrt, min_samples_leaf=1, min_samples_split=6, n_estimators=200 \n",
      "[CV]  max_depth=5, max_features=sqrt, min_samples_leaf=1, min_samples_split=6, n_estimators=200, total=   0.9s\n",
      "[CV] max_depth=5, max_features=sqrt, min_samples_leaf=1, min_samples_split=6, n_estimators=200 \n",
      "[CV]  max_depth=5, max_features=sqrt, min_samples_leaf=1, min_samples_split=6, n_estimators=200, total=   0.9s\n",
      "[CV] max_depth=5, max_features=sqrt, min_samples_leaf=1, min_samples_split=6, n_estimators=200 \n",
      "[CV]  max_depth=5, max_features=sqrt, min_samples_leaf=1, min_samples_split=6, n_estimators=200, total=   0.8s\n",
      "[CV] max_depth=5, max_features=sqrt, min_samples_leaf=1, min_samples_split=6, n_estimators=200 \n",
      "[CV]  max_depth=5, max_features=sqrt, min_samples_leaf=1, min_samples_split=6, n_estimators=200, total=   0.8s\n",
      "[CV] max_depth=5, max_features=sqrt, min_samples_leaf=1, min_samples_split=6, n_estimators=500 \n",
      "[CV]  max_depth=5, max_features=sqrt, min_samples_leaf=1, min_samples_split=6, n_estimators=500, total=   2.2s\n",
      "[CV] max_depth=5, max_features=sqrt, min_samples_leaf=1, min_samples_split=6, n_estimators=500 \n",
      "[CV]  max_depth=5, max_features=sqrt, min_samples_leaf=1, min_samples_split=6, n_estimators=500, total=   2.0s\n",
      "[CV] max_depth=5, max_features=sqrt, min_samples_leaf=1, min_samples_split=6, n_estimators=500 \n",
      "[CV]  max_depth=5, max_features=sqrt, min_samples_leaf=1, min_samples_split=6, n_estimators=500, total=   2.0s\n",
      "[CV] max_depth=5, max_features=sqrt, min_samples_leaf=1, min_samples_split=6, n_estimators=500 \n",
      "[CV]  max_depth=5, max_features=sqrt, min_samples_leaf=1, min_samples_split=6, n_estimators=500, total=   2.0s\n",
      "[CV] max_depth=5, max_features=sqrt, min_samples_leaf=1, min_samples_split=6, n_estimators=500 \n",
      "[CV]  max_depth=5, max_features=sqrt, min_samples_leaf=1, min_samples_split=6, n_estimators=500, total=   2.0s\n",
      "[CV] max_depth=5, max_features=sqrt, min_samples_leaf=1, min_samples_split=10, n_estimators=100 \n",
      "[CV]  max_depth=5, max_features=sqrt, min_samples_leaf=1, min_samples_split=10, n_estimators=100, total=   0.4s\n",
      "[CV] max_depth=5, max_features=sqrt, min_samples_leaf=1, min_samples_split=10, n_estimators=100 \n",
      "[CV]  max_depth=5, max_features=sqrt, min_samples_leaf=1, min_samples_split=10, n_estimators=100, total=   0.5s\n",
      "[CV] max_depth=5, max_features=sqrt, min_samples_leaf=1, min_samples_split=10, n_estimators=100 \n",
      "[CV]  max_depth=5, max_features=sqrt, min_samples_leaf=1, min_samples_split=10, n_estimators=100, total=   0.4s\n",
      "[CV] max_depth=5, max_features=sqrt, min_samples_leaf=1, min_samples_split=10, n_estimators=100 \n",
      "[CV]  max_depth=5, max_features=sqrt, min_samples_leaf=1, min_samples_split=10, n_estimators=100, total=   0.4s\n",
      "[CV] max_depth=5, max_features=sqrt, min_samples_leaf=1, min_samples_split=10, n_estimators=100 \n",
      "[CV]  max_depth=5, max_features=sqrt, min_samples_leaf=1, min_samples_split=10, n_estimators=100, total=   0.4s\n",
      "[CV] max_depth=5, max_features=sqrt, min_samples_leaf=1, min_samples_split=10, n_estimators=200 \n",
      "[CV]  max_depth=5, max_features=sqrt, min_samples_leaf=1, min_samples_split=10, n_estimators=200, total=   0.8s\n",
      "[CV] max_depth=5, max_features=sqrt, min_samples_leaf=1, min_samples_split=10, n_estimators=200 \n",
      "[CV]  max_depth=5, max_features=sqrt, min_samples_leaf=1, min_samples_split=10, n_estimators=200, total=   0.9s\n",
      "[CV] max_depth=5, max_features=sqrt, min_samples_leaf=1, min_samples_split=10, n_estimators=200 \n",
      "[CV]  max_depth=5, max_features=sqrt, min_samples_leaf=1, min_samples_split=10, n_estimators=200, total=   0.8s\n",
      "[CV] max_depth=5, max_features=sqrt, min_samples_leaf=1, min_samples_split=10, n_estimators=200 \n",
      "[CV]  max_depth=5, max_features=sqrt, min_samples_leaf=1, min_samples_split=10, n_estimators=200, total=   0.9s\n",
      "[CV] max_depth=5, max_features=sqrt, min_samples_leaf=1, min_samples_split=10, n_estimators=200 \n",
      "[CV]  max_depth=5, max_features=sqrt, min_samples_leaf=1, min_samples_split=10, n_estimators=200, total=   0.8s\n",
      "[CV] max_depth=5, max_features=sqrt, min_samples_leaf=1, min_samples_split=10, n_estimators=500 \n",
      "[CV]  max_depth=5, max_features=sqrt, min_samples_leaf=1, min_samples_split=10, n_estimators=500, total=   2.0s\n",
      "[CV] max_depth=5, max_features=sqrt, min_samples_leaf=1, min_samples_split=10, n_estimators=500 \n",
      "[CV]  max_depth=5, max_features=sqrt, min_samples_leaf=1, min_samples_split=10, n_estimators=500, total=   2.1s\n",
      "[CV] max_depth=5, max_features=sqrt, min_samples_leaf=1, min_samples_split=10, n_estimators=500 \n",
      "[CV]  max_depth=5, max_features=sqrt, min_samples_leaf=1, min_samples_split=10, n_estimators=500, total=   2.0s\n",
      "[CV] max_depth=5, max_features=sqrt, min_samples_leaf=1, min_samples_split=10, n_estimators=500 \n",
      "[CV]  max_depth=5, max_features=sqrt, min_samples_leaf=1, min_samples_split=10, n_estimators=500, total=   2.0s\n",
      "[CV] max_depth=5, max_features=sqrt, min_samples_leaf=1, min_samples_split=10, n_estimators=500 \n",
      "[CV]  max_depth=5, max_features=sqrt, min_samples_leaf=1, min_samples_split=10, n_estimators=500, total=   2.0s\n",
      "[CV] max_depth=5, max_features=sqrt, min_samples_leaf=2, min_samples_split=6, n_estimators=100 \n",
      "[CV]  max_depth=5, max_features=sqrt, min_samples_leaf=2, min_samples_split=6, n_estimators=100, total=   0.4s\n",
      "[CV] max_depth=5, max_features=sqrt, min_samples_leaf=2, min_samples_split=6, n_estimators=100 \n",
      "[CV]  max_depth=5, max_features=sqrt, min_samples_leaf=2, min_samples_split=6, n_estimators=100, total=   0.4s\n",
      "[CV] max_depth=5, max_features=sqrt, min_samples_leaf=2, min_samples_split=6, n_estimators=100 \n",
      "[CV]  max_depth=5, max_features=sqrt, min_samples_leaf=2, min_samples_split=6, n_estimators=100, total=   0.4s\n",
      "[CV] max_depth=5, max_features=sqrt, min_samples_leaf=2, min_samples_split=6, n_estimators=100 \n",
      "[CV]  max_depth=5, max_features=sqrt, min_samples_leaf=2, min_samples_split=6, n_estimators=100, total=   0.4s\n",
      "[CV] max_depth=5, max_features=sqrt, min_samples_leaf=2, min_samples_split=6, n_estimators=100 \n",
      "[CV]  max_depth=5, max_features=sqrt, min_samples_leaf=2, min_samples_split=6, n_estimators=100, total=   0.4s\n",
      "[CV] max_depth=5, max_features=sqrt, min_samples_leaf=2, min_samples_split=6, n_estimators=200 \n",
      "[CV]  max_depth=5, max_features=sqrt, min_samples_leaf=2, min_samples_split=6, n_estimators=200, total=   0.9s\n",
      "[CV] max_depth=5, max_features=sqrt, min_samples_leaf=2, min_samples_split=6, n_estimators=200 \n",
      "[CV]  max_depth=5, max_features=sqrt, min_samples_leaf=2, min_samples_split=6, n_estimators=200, total=   0.8s\n",
      "[CV] max_depth=5, max_features=sqrt, min_samples_leaf=2, min_samples_split=6, n_estimators=200 \n",
      "[CV]  max_depth=5, max_features=sqrt, min_samples_leaf=2, min_samples_split=6, n_estimators=200, total=   0.8s\n",
      "[CV] max_depth=5, max_features=sqrt, min_samples_leaf=2, min_samples_split=6, n_estimators=200 \n",
      "[CV]  max_depth=5, max_features=sqrt, min_samples_leaf=2, min_samples_split=6, n_estimators=200, total=   0.8s\n",
      "[CV] max_depth=5, max_features=sqrt, min_samples_leaf=2, min_samples_split=6, n_estimators=200 \n",
      "[CV]  max_depth=5, max_features=sqrt, min_samples_leaf=2, min_samples_split=6, n_estimators=200, total=   0.8s\n",
      "[CV] max_depth=5, max_features=sqrt, min_samples_leaf=2, min_samples_split=6, n_estimators=500 \n",
      "[CV]  max_depth=5, max_features=sqrt, min_samples_leaf=2, min_samples_split=6, n_estimators=500, total=   2.0s\n",
      "[CV] max_depth=5, max_features=sqrt, min_samples_leaf=2, min_samples_split=6, n_estimators=500 \n",
      "[CV]  max_depth=5, max_features=sqrt, min_samples_leaf=2, min_samples_split=6, n_estimators=500, total=   2.0s\n",
      "[CV] max_depth=5, max_features=sqrt, min_samples_leaf=2, min_samples_split=6, n_estimators=500 \n",
      "[CV]  max_depth=5, max_features=sqrt, min_samples_leaf=2, min_samples_split=6, n_estimators=500, total=   2.1s\n",
      "[CV] max_depth=5, max_features=sqrt, min_samples_leaf=2, min_samples_split=6, n_estimators=500 \n",
      "[CV]  max_depth=5, max_features=sqrt, min_samples_leaf=2, min_samples_split=6, n_estimators=500, total=   2.2s\n",
      "[CV] max_depth=5, max_features=sqrt, min_samples_leaf=2, min_samples_split=6, n_estimators=500 \n",
      "[CV]  max_depth=5, max_features=sqrt, min_samples_leaf=2, min_samples_split=6, n_estimators=500, total=   2.0s\n",
      "[CV] max_depth=5, max_features=sqrt, min_samples_leaf=2, min_samples_split=10, n_estimators=100 \n",
      "[CV]  max_depth=5, max_features=sqrt, min_samples_leaf=2, min_samples_split=10, n_estimators=100, total=   0.4s\n",
      "[CV] max_depth=5, max_features=sqrt, min_samples_leaf=2, min_samples_split=10, n_estimators=100 \n",
      "[CV]  max_depth=5, max_features=sqrt, min_samples_leaf=2, min_samples_split=10, n_estimators=100, total=   0.4s\n",
      "[CV] max_depth=5, max_features=sqrt, min_samples_leaf=2, min_samples_split=10, n_estimators=100 \n",
      "[CV]  max_depth=5, max_features=sqrt, min_samples_leaf=2, min_samples_split=10, n_estimators=100, total=   0.4s\n",
      "[CV] max_depth=5, max_features=sqrt, min_samples_leaf=2, min_samples_split=10, n_estimators=100 \n",
      "[CV]  max_depth=5, max_features=sqrt, min_samples_leaf=2, min_samples_split=10, n_estimators=100, total=   0.4s\n",
      "[CV] max_depth=5, max_features=sqrt, min_samples_leaf=2, min_samples_split=10, n_estimators=100 \n",
      "[CV]  max_depth=5, max_features=sqrt, min_samples_leaf=2, min_samples_split=10, n_estimators=100, total=   0.5s\n",
      "[CV] max_depth=5, max_features=sqrt, min_samples_leaf=2, min_samples_split=10, n_estimators=200 \n",
      "[CV]  max_depth=5, max_features=sqrt, min_samples_leaf=2, min_samples_split=10, n_estimators=200, total=   1.1s\n",
      "[CV] max_depth=5, max_features=sqrt, min_samples_leaf=2, min_samples_split=10, n_estimators=200 \n",
      "[CV]  max_depth=5, max_features=sqrt, min_samples_leaf=2, min_samples_split=10, n_estimators=200, total=   0.8s\n",
      "[CV] max_depth=5, max_features=sqrt, min_samples_leaf=2, min_samples_split=10, n_estimators=200 \n",
      "[CV]  max_depth=5, max_features=sqrt, min_samples_leaf=2, min_samples_split=10, n_estimators=200, total=   0.9s\n",
      "[CV] max_depth=5, max_features=sqrt, min_samples_leaf=2, min_samples_split=10, n_estimators=200 \n",
      "[CV]  max_depth=5, max_features=sqrt, min_samples_leaf=2, min_samples_split=10, n_estimators=200, total=   0.9s\n",
      "[CV] max_depth=5, max_features=sqrt, min_samples_leaf=2, min_samples_split=10, n_estimators=200 \n",
      "[CV]  max_depth=5, max_features=sqrt, min_samples_leaf=2, min_samples_split=10, n_estimators=200, total=   0.8s\n",
      "[CV] max_depth=5, max_features=sqrt, min_samples_leaf=2, min_samples_split=10, n_estimators=500 \n",
      "[CV]  max_depth=5, max_features=sqrt, min_samples_leaf=2, min_samples_split=10, n_estimators=500, total=   2.1s\n",
      "[CV] max_depth=5, max_features=sqrt, min_samples_leaf=2, min_samples_split=10, n_estimators=500 \n",
      "[CV]  max_depth=5, max_features=sqrt, min_samples_leaf=2, min_samples_split=10, n_estimators=500, total=   2.4s\n",
      "[CV] max_depth=5, max_features=sqrt, min_samples_leaf=2, min_samples_split=10, n_estimators=500 \n",
      "[CV]  max_depth=5, max_features=sqrt, min_samples_leaf=2, min_samples_split=10, n_estimators=500, total=   2.5s\n",
      "[CV] max_depth=5, max_features=sqrt, min_samples_leaf=2, min_samples_split=10, n_estimators=500 \n",
      "[CV]  max_depth=5, max_features=sqrt, min_samples_leaf=2, min_samples_split=10, n_estimators=500, total=   2.3s\n",
      "[CV] max_depth=5, max_features=sqrt, min_samples_leaf=2, min_samples_split=10, n_estimators=500 \n",
      "[CV]  max_depth=5, max_features=sqrt, min_samples_leaf=2, min_samples_split=10, n_estimators=500, total=   2.1s\n",
      "[CV] max_depth=15, max_features=auto, min_samples_leaf=1, min_samples_split=6, n_estimators=100 \n",
      "[CV]  max_depth=15, max_features=auto, min_samples_leaf=1, min_samples_split=6, n_estimators=100, total=   1.1s\n",
      "[CV] max_depth=15, max_features=auto, min_samples_leaf=1, min_samples_split=6, n_estimators=100 \n",
      "[CV]  max_depth=15, max_features=auto, min_samples_leaf=1, min_samples_split=6, n_estimators=100, total=   1.1s\n",
      "[CV] max_depth=15, max_features=auto, min_samples_leaf=1, min_samples_split=6, n_estimators=100 \n",
      "[CV]  max_depth=15, max_features=auto, min_samples_leaf=1, min_samples_split=6, n_estimators=100, total=   1.0s\n",
      "[CV] max_depth=15, max_features=auto, min_samples_leaf=1, min_samples_split=6, n_estimators=100 \n",
      "[CV]  max_depth=15, max_features=auto, min_samples_leaf=1, min_samples_split=6, n_estimators=100, total=   1.0s\n",
      "[CV] max_depth=15, max_features=auto, min_samples_leaf=1, min_samples_split=6, n_estimators=100 \n",
      "[CV]  max_depth=15, max_features=auto, min_samples_leaf=1, min_samples_split=6, n_estimators=100, total=   1.0s\n",
      "[CV] max_depth=15, max_features=auto, min_samples_leaf=1, min_samples_split=6, n_estimators=200 \n",
      "[CV]  max_depth=15, max_features=auto, min_samples_leaf=1, min_samples_split=6, n_estimators=200, total=   2.1s\n",
      "[CV] max_depth=15, max_features=auto, min_samples_leaf=1, min_samples_split=6, n_estimators=200 \n",
      "[CV]  max_depth=15, max_features=auto, min_samples_leaf=1, min_samples_split=6, n_estimators=200, total=   2.5s\n",
      "[CV] max_depth=15, max_features=auto, min_samples_leaf=1, min_samples_split=6, n_estimators=200 \n",
      "[CV]  max_depth=15, max_features=auto, min_samples_leaf=1, min_samples_split=6, n_estimators=200, total=   2.9s\n",
      "[CV] max_depth=15, max_features=auto, min_samples_leaf=1, min_samples_split=6, n_estimators=200 \n",
      "[CV]  max_depth=15, max_features=auto, min_samples_leaf=1, min_samples_split=6, n_estimators=200, total=   2.3s\n",
      "[CV] max_depth=15, max_features=auto, min_samples_leaf=1, min_samples_split=6, n_estimators=200 \n",
      "[CV]  max_depth=15, max_features=auto, min_samples_leaf=1, min_samples_split=6, n_estimators=200, total=   2.1s\n",
      "[CV] max_depth=15, max_features=auto, min_samples_leaf=1, min_samples_split=6, n_estimators=500 \n",
      "[CV]  max_depth=15, max_features=auto, min_samples_leaf=1, min_samples_split=6, n_estimators=500, total=   5.1s\n",
      "[CV] max_depth=15, max_features=auto, min_samples_leaf=1, min_samples_split=6, n_estimators=500 \n",
      "[CV]  max_depth=15, max_features=auto, min_samples_leaf=1, min_samples_split=6, n_estimators=500, total=   5.1s\n",
      "[CV] max_depth=15, max_features=auto, min_samples_leaf=1, min_samples_split=6, n_estimators=500 \n",
      "[CV]  max_depth=15, max_features=auto, min_samples_leaf=1, min_samples_split=6, n_estimators=500, total=   5.4s\n",
      "[CV] max_depth=15, max_features=auto, min_samples_leaf=1, min_samples_split=6, n_estimators=500 \n",
      "[CV]  max_depth=15, max_features=auto, min_samples_leaf=1, min_samples_split=6, n_estimators=500, total=   5.3s\n",
      "[CV] max_depth=15, max_features=auto, min_samples_leaf=1, min_samples_split=6, n_estimators=500 \n",
      "[CV]  max_depth=15, max_features=auto, min_samples_leaf=1, min_samples_split=6, n_estimators=500, total=   5.6s\n",
      "[CV] max_depth=15, max_features=auto, min_samples_leaf=1, min_samples_split=10, n_estimators=100 \n",
      "[CV]  max_depth=15, max_features=auto, min_samples_leaf=1, min_samples_split=10, n_estimators=100, total=   0.9s\n",
      "[CV] max_depth=15, max_features=auto, min_samples_leaf=1, min_samples_split=10, n_estimators=100 \n",
      "[CV]  max_depth=15, max_features=auto, min_samples_leaf=1, min_samples_split=10, n_estimators=100, total=   0.9s\n",
      "[CV] max_depth=15, max_features=auto, min_samples_leaf=1, min_samples_split=10, n_estimators=100 \n",
      "[CV]  max_depth=15, max_features=auto, min_samples_leaf=1, min_samples_split=10, n_estimators=100, total=   0.9s\n",
      "[CV] max_depth=15, max_features=auto, min_samples_leaf=1, min_samples_split=10, n_estimators=100 \n",
      "[CV]  max_depth=15, max_features=auto, min_samples_leaf=1, min_samples_split=10, n_estimators=100, total=   1.0s\n",
      "[CV] max_depth=15, max_features=auto, min_samples_leaf=1, min_samples_split=10, n_estimators=100 \n",
      "[CV]  max_depth=15, max_features=auto, min_samples_leaf=1, min_samples_split=10, n_estimators=100, total=   1.1s\n",
      "[CV] max_depth=15, max_features=auto, min_samples_leaf=1, min_samples_split=10, n_estimators=200 \n",
      "[CV]  max_depth=15, max_features=auto, min_samples_leaf=1, min_samples_split=10, n_estimators=200, total=   2.0s\n",
      "[CV] max_depth=15, max_features=auto, min_samples_leaf=1, min_samples_split=10, n_estimators=200 \n",
      "[CV]  max_depth=15, max_features=auto, min_samples_leaf=1, min_samples_split=10, n_estimators=200, total=   1.9s\n",
      "[CV] max_depth=15, max_features=auto, min_samples_leaf=1, min_samples_split=10, n_estimators=200 \n",
      "[CV]  max_depth=15, max_features=auto, min_samples_leaf=1, min_samples_split=10, n_estimators=200, total=   1.9s\n",
      "[CV] max_depth=15, max_features=auto, min_samples_leaf=1, min_samples_split=10, n_estimators=200 \n",
      "[CV]  max_depth=15, max_features=auto, min_samples_leaf=1, min_samples_split=10, n_estimators=200, total=   1.8s\n",
      "[CV] max_depth=15, max_features=auto, min_samples_leaf=1, min_samples_split=10, n_estimators=200 \n",
      "[CV]  max_depth=15, max_features=auto, min_samples_leaf=1, min_samples_split=10, n_estimators=200, total=   1.9s\n",
      "[CV] max_depth=15, max_features=auto, min_samples_leaf=1, min_samples_split=10, n_estimators=500 \n",
      "[CV]  max_depth=15, max_features=auto, min_samples_leaf=1, min_samples_split=10, n_estimators=500, total=   5.8s\n",
      "[CV] max_depth=15, max_features=auto, min_samples_leaf=1, min_samples_split=10, n_estimators=500 \n",
      "[CV]  max_depth=15, max_features=auto, min_samples_leaf=1, min_samples_split=10, n_estimators=500, total=   4.7s\n",
      "[CV] max_depth=15, max_features=auto, min_samples_leaf=1, min_samples_split=10, n_estimators=500 \n",
      "[CV]  max_depth=15, max_features=auto, min_samples_leaf=1, min_samples_split=10, n_estimators=500, total=   4.6s\n",
      "[CV] max_depth=15, max_features=auto, min_samples_leaf=1, min_samples_split=10, n_estimators=500 \n",
      "[CV]  max_depth=15, max_features=auto, min_samples_leaf=1, min_samples_split=10, n_estimators=500, total=   4.8s\n",
      "[CV] max_depth=15, max_features=auto, min_samples_leaf=1, min_samples_split=10, n_estimators=500 \n",
      "[CV]  max_depth=15, max_features=auto, min_samples_leaf=1, min_samples_split=10, n_estimators=500, total=   4.7s\n",
      "[CV] max_depth=15, max_features=auto, min_samples_leaf=2, min_samples_split=6, n_estimators=100 \n",
      "[CV]  max_depth=15, max_features=auto, min_samples_leaf=2, min_samples_split=6, n_estimators=100, total=   1.0s\n",
      "[CV] max_depth=15, max_features=auto, min_samples_leaf=2, min_samples_split=6, n_estimators=100 \n",
      "[CV]  max_depth=15, max_features=auto, min_samples_leaf=2, min_samples_split=6, n_estimators=100, total=   1.0s\n",
      "[CV] max_depth=15, max_features=auto, min_samples_leaf=2, min_samples_split=6, n_estimators=100 \n",
      "[CV]  max_depth=15, max_features=auto, min_samples_leaf=2, min_samples_split=6, n_estimators=100, total=   1.0s\n",
      "[CV] max_depth=15, max_features=auto, min_samples_leaf=2, min_samples_split=6, n_estimators=100 \n",
      "[CV]  max_depth=15, max_features=auto, min_samples_leaf=2, min_samples_split=6, n_estimators=100, total=   1.0s\n",
      "[CV] max_depth=15, max_features=auto, min_samples_leaf=2, min_samples_split=6, n_estimators=100 \n",
      "[CV]  max_depth=15, max_features=auto, min_samples_leaf=2, min_samples_split=6, n_estimators=100, total=   1.0s\n",
      "[CV] max_depth=15, max_features=auto, min_samples_leaf=2, min_samples_split=6, n_estimators=200 \n",
      "[CV]  max_depth=15, max_features=auto, min_samples_leaf=2, min_samples_split=6, n_estimators=200, total=   2.0s\n",
      "[CV] max_depth=15, max_features=auto, min_samples_leaf=2, min_samples_split=6, n_estimators=200 \n",
      "[CV]  max_depth=15, max_features=auto, min_samples_leaf=2, min_samples_split=6, n_estimators=200, total=   2.0s\n",
      "[CV] max_depth=15, max_features=auto, min_samples_leaf=2, min_samples_split=6, n_estimators=200 \n",
      "[CV]  max_depth=15, max_features=auto, min_samples_leaf=2, min_samples_split=6, n_estimators=200, total=   2.0s\n",
      "[CV] max_depth=15, max_features=auto, min_samples_leaf=2, min_samples_split=6, n_estimators=200 \n",
      "[CV]  max_depth=15, max_features=auto, min_samples_leaf=2, min_samples_split=6, n_estimators=200, total=   2.1s\n",
      "[CV] max_depth=15, max_features=auto, min_samples_leaf=2, min_samples_split=6, n_estimators=200 \n",
      "[CV]  max_depth=15, max_features=auto, min_samples_leaf=2, min_samples_split=6, n_estimators=200, total=   2.0s\n",
      "[CV] max_depth=15, max_features=auto, min_samples_leaf=2, min_samples_split=6, n_estimators=500 \n",
      "[CV]  max_depth=15, max_features=auto, min_samples_leaf=2, min_samples_split=6, n_estimators=500, total=   5.0s\n",
      "[CV] max_depth=15, max_features=auto, min_samples_leaf=2, min_samples_split=6, n_estimators=500 \n",
      "[CV]  max_depth=15, max_features=auto, min_samples_leaf=2, min_samples_split=6, n_estimators=500, total=   5.7s\n",
      "[CV] max_depth=15, max_features=auto, min_samples_leaf=2, min_samples_split=6, n_estimators=500 \n",
      "[CV]  max_depth=15, max_features=auto, min_samples_leaf=2, min_samples_split=6, n_estimators=500, total=   5.2s\n",
      "[CV] max_depth=15, max_features=auto, min_samples_leaf=2, min_samples_split=6, n_estimators=500 \n",
      "[CV]  max_depth=15, max_features=auto, min_samples_leaf=2, min_samples_split=6, n_estimators=500, total=   5.2s\n",
      "[CV] max_depth=15, max_features=auto, min_samples_leaf=2, min_samples_split=6, n_estimators=500 \n",
      "[CV]  max_depth=15, max_features=auto, min_samples_leaf=2, min_samples_split=6, n_estimators=500, total=   5.1s\n",
      "[CV] max_depth=15, max_features=auto, min_samples_leaf=2, min_samples_split=10, n_estimators=100 \n",
      "[CV]  max_depth=15, max_features=auto, min_samples_leaf=2, min_samples_split=10, n_estimators=100, total=   1.2s\n",
      "[CV] max_depth=15, max_features=auto, min_samples_leaf=2, min_samples_split=10, n_estimators=100 \n",
      "[CV]  max_depth=15, max_features=auto, min_samples_leaf=2, min_samples_split=10, n_estimators=100, total=   1.0s\n",
      "[CV] max_depth=15, max_features=auto, min_samples_leaf=2, min_samples_split=10, n_estimators=100 \n",
      "[CV]  max_depth=15, max_features=auto, min_samples_leaf=2, min_samples_split=10, n_estimators=100, total=   1.2s\n",
      "[CV] max_depth=15, max_features=auto, min_samples_leaf=2, min_samples_split=10, n_estimators=100 \n",
      "[CV]  max_depth=15, max_features=auto, min_samples_leaf=2, min_samples_split=10, n_estimators=100, total=   1.0s\n",
      "[CV] max_depth=15, max_features=auto, min_samples_leaf=2, min_samples_split=10, n_estimators=100 \n",
      "[CV]  max_depth=15, max_features=auto, min_samples_leaf=2, min_samples_split=10, n_estimators=100, total=   1.0s\n",
      "[CV] max_depth=15, max_features=auto, min_samples_leaf=2, min_samples_split=10, n_estimators=200 \n",
      "[CV]  max_depth=15, max_features=auto, min_samples_leaf=2, min_samples_split=10, n_estimators=200, total=   1.9s\n",
      "[CV] max_depth=15, max_features=auto, min_samples_leaf=2, min_samples_split=10, n_estimators=200 \n",
      "[CV]  max_depth=15, max_features=auto, min_samples_leaf=2, min_samples_split=10, n_estimators=200, total=   1.8s\n",
      "[CV] max_depth=15, max_features=auto, min_samples_leaf=2, min_samples_split=10, n_estimators=200 \n",
      "[CV]  max_depth=15, max_features=auto, min_samples_leaf=2, min_samples_split=10, n_estimators=200, total=   2.0s\n",
      "[CV] max_depth=15, max_features=auto, min_samples_leaf=2, min_samples_split=10, n_estimators=200 \n",
      "[CV]  max_depth=15, max_features=auto, min_samples_leaf=2, min_samples_split=10, n_estimators=200, total=   1.9s\n",
      "[CV] max_depth=15, max_features=auto, min_samples_leaf=2, min_samples_split=10, n_estimators=200 \n",
      "[CV]  max_depth=15, max_features=auto, min_samples_leaf=2, min_samples_split=10, n_estimators=200, total=   1.8s\n",
      "[CV] max_depth=15, max_features=auto, min_samples_leaf=2, min_samples_split=10, n_estimators=500 \n",
      "[CV]  max_depth=15, max_features=auto, min_samples_leaf=2, min_samples_split=10, n_estimators=500, total=   4.8s\n",
      "[CV] max_depth=15, max_features=auto, min_samples_leaf=2, min_samples_split=10, n_estimators=500 \n",
      "[CV]  max_depth=15, max_features=auto, min_samples_leaf=2, min_samples_split=10, n_estimators=500, total=   4.8s\n",
      "[CV] max_depth=15, max_features=auto, min_samples_leaf=2, min_samples_split=10, n_estimators=500 \n",
      "[CV]  max_depth=15, max_features=auto, min_samples_leaf=2, min_samples_split=10, n_estimators=500, total=   4.6s\n",
      "[CV] max_depth=15, max_features=auto, min_samples_leaf=2, min_samples_split=10, n_estimators=500 \n",
      "[CV]  max_depth=15, max_features=auto, min_samples_leaf=2, min_samples_split=10, n_estimators=500, total=   4.6s\n",
      "[CV] max_depth=15, max_features=auto, min_samples_leaf=2, min_samples_split=10, n_estimators=500 \n",
      "[CV]  max_depth=15, max_features=auto, min_samples_leaf=2, min_samples_split=10, n_estimators=500, total=   4.9s\n",
      "[CV] max_depth=15, max_features=sqrt, min_samples_leaf=1, min_samples_split=6, n_estimators=100 \n",
      "[CV]  max_depth=15, max_features=sqrt, min_samples_leaf=1, min_samples_split=6, n_estimators=100, total=   0.8s\n",
      "[CV] max_depth=15, max_features=sqrt, min_samples_leaf=1, min_samples_split=6, n_estimators=100 \n",
      "[CV]  max_depth=15, max_features=sqrt, min_samples_leaf=1, min_samples_split=6, n_estimators=100, total=   0.7s\n",
      "[CV] max_depth=15, max_features=sqrt, min_samples_leaf=1, min_samples_split=6, n_estimators=100 \n",
      "[CV]  max_depth=15, max_features=sqrt, min_samples_leaf=1, min_samples_split=6, n_estimators=100, total=   0.7s\n",
      "[CV] max_depth=15, max_features=sqrt, min_samples_leaf=1, min_samples_split=6, n_estimators=100 \n",
      "[CV]  max_depth=15, max_features=sqrt, min_samples_leaf=1, min_samples_split=6, n_estimators=100, total=   0.7s\n",
      "[CV] max_depth=15, max_features=sqrt, min_samples_leaf=1, min_samples_split=6, n_estimators=100 \n",
      "[CV]  max_depth=15, max_features=sqrt, min_samples_leaf=1, min_samples_split=6, n_estimators=100, total=   0.7s\n",
      "[CV] max_depth=15, max_features=sqrt, min_samples_leaf=1, min_samples_split=6, n_estimators=200 \n",
      "[CV]  max_depth=15, max_features=sqrt, min_samples_leaf=1, min_samples_split=6, n_estimators=200, total=   1.4s\n",
      "[CV] max_depth=15, max_features=sqrt, min_samples_leaf=1, min_samples_split=6, n_estimators=200 \n",
      "[CV]  max_depth=15, max_features=sqrt, min_samples_leaf=1, min_samples_split=6, n_estimators=200, total=   1.5s\n",
      "[CV] max_depth=15, max_features=sqrt, min_samples_leaf=1, min_samples_split=6, n_estimators=200 \n",
      "[CV]  max_depth=15, max_features=sqrt, min_samples_leaf=1, min_samples_split=6, n_estimators=200, total=   1.4s\n",
      "[CV] max_depth=15, max_features=sqrt, min_samples_leaf=1, min_samples_split=6, n_estimators=200 \n",
      "[CV]  max_depth=15, max_features=sqrt, min_samples_leaf=1, min_samples_split=6, n_estimators=200, total=   1.4s\n",
      "[CV] max_depth=15, max_features=sqrt, min_samples_leaf=1, min_samples_split=6, n_estimators=200 \n",
      "[CV]  max_depth=15, max_features=sqrt, min_samples_leaf=1, min_samples_split=6, n_estimators=200, total=   1.4s\n",
      "[CV] max_depth=15, max_features=sqrt, min_samples_leaf=1, min_samples_split=6, n_estimators=500 \n",
      "[CV]  max_depth=15, max_features=sqrt, min_samples_leaf=1, min_samples_split=6, n_estimators=500, total=   3.8s\n",
      "[CV] max_depth=15, max_features=sqrt, min_samples_leaf=1, min_samples_split=6, n_estimators=500 \n",
      "[CV]  max_depth=15, max_features=sqrt, min_samples_leaf=1, min_samples_split=6, n_estimators=500, total=   3.8s\n",
      "[CV] max_depth=15, max_features=sqrt, min_samples_leaf=1, min_samples_split=6, n_estimators=500 \n",
      "[CV]  max_depth=15, max_features=sqrt, min_samples_leaf=1, min_samples_split=6, n_estimators=500, total=   3.5s\n",
      "[CV] max_depth=15, max_features=sqrt, min_samples_leaf=1, min_samples_split=6, n_estimators=500 \n",
      "[CV]  max_depth=15, max_features=sqrt, min_samples_leaf=1, min_samples_split=6, n_estimators=500, total=   3.5s\n",
      "[CV] max_depth=15, max_features=sqrt, min_samples_leaf=1, min_samples_split=6, n_estimators=500 \n",
      "[CV]  max_depth=15, max_features=sqrt, min_samples_leaf=1, min_samples_split=6, n_estimators=500, total=   4.1s\n",
      "[CV] max_depth=15, max_features=sqrt, min_samples_leaf=1, min_samples_split=10, n_estimators=100 \n",
      "[CV]  max_depth=15, max_features=sqrt, min_samples_leaf=1, min_samples_split=10, n_estimators=100, total=   0.8s\n",
      "[CV] max_depth=15, max_features=sqrt, min_samples_leaf=1, min_samples_split=10, n_estimators=100 \n",
      "[CV]  max_depth=15, max_features=sqrt, min_samples_leaf=1, min_samples_split=10, n_estimators=100, total=   0.7s\n",
      "[CV] max_depth=15, max_features=sqrt, min_samples_leaf=1, min_samples_split=10, n_estimators=100 \n",
      "[CV]  max_depth=15, max_features=sqrt, min_samples_leaf=1, min_samples_split=10, n_estimators=100, total=   0.8s\n",
      "[CV] max_depth=15, max_features=sqrt, min_samples_leaf=1, min_samples_split=10, n_estimators=100 \n",
      "[CV]  max_depth=15, max_features=sqrt, min_samples_leaf=1, min_samples_split=10, n_estimators=100, total=   0.7s\n",
      "[CV] max_depth=15, max_features=sqrt, min_samples_leaf=1, min_samples_split=10, n_estimators=100 \n",
      "[CV]  max_depth=15, max_features=sqrt, min_samples_leaf=1, min_samples_split=10, n_estimators=100, total=   0.6s\n",
      "[CV] max_depth=15, max_features=sqrt, min_samples_leaf=1, min_samples_split=10, n_estimators=200 \n",
      "[CV]  max_depth=15, max_features=sqrt, min_samples_leaf=1, min_samples_split=10, n_estimators=200, total=   1.3s\n",
      "[CV] max_depth=15, max_features=sqrt, min_samples_leaf=1, min_samples_split=10, n_estimators=200 \n",
      "[CV]  max_depth=15, max_features=sqrt, min_samples_leaf=1, min_samples_split=10, n_estimators=200, total=   1.3s\n",
      "[CV] max_depth=15, max_features=sqrt, min_samples_leaf=1, min_samples_split=10, n_estimators=200 \n",
      "[CV]  max_depth=15, max_features=sqrt, min_samples_leaf=1, min_samples_split=10, n_estimators=200, total=   1.2s\n",
      "[CV] max_depth=15, max_features=sqrt, min_samples_leaf=1, min_samples_split=10, n_estimators=200 \n",
      "[CV]  max_depth=15, max_features=sqrt, min_samples_leaf=1, min_samples_split=10, n_estimators=200, total=   0.9s\n",
      "[CV] max_depth=15, max_features=sqrt, min_samples_leaf=1, min_samples_split=10, n_estimators=200 \n",
      "[CV]  max_depth=15, max_features=sqrt, min_samples_leaf=1, min_samples_split=10, n_estimators=200, total=   1.0s\n",
      "[CV] max_depth=15, max_features=sqrt, min_samples_leaf=1, min_samples_split=10, n_estimators=500 \n",
      "[CV]  max_depth=15, max_features=sqrt, min_samples_leaf=1, min_samples_split=10, n_estimators=500, total=   3.2s\n",
      "[CV] max_depth=15, max_features=sqrt, min_samples_leaf=1, min_samples_split=10, n_estimators=500 \n",
      "[CV]  max_depth=15, max_features=sqrt, min_samples_leaf=1, min_samples_split=10, n_estimators=500, total=   3.2s\n",
      "[CV] max_depth=15, max_features=sqrt, min_samples_leaf=1, min_samples_split=10, n_estimators=500 \n",
      "[CV]  max_depth=15, max_features=sqrt, min_samples_leaf=1, min_samples_split=10, n_estimators=500, total=   3.1s\n",
      "[CV] max_depth=15, max_features=sqrt, min_samples_leaf=1, min_samples_split=10, n_estimators=500 \n",
      "[CV]  max_depth=15, max_features=sqrt, min_samples_leaf=1, min_samples_split=10, n_estimators=500, total=   3.6s\n",
      "[CV] max_depth=15, max_features=sqrt, min_samples_leaf=1, min_samples_split=10, n_estimators=500 \n",
      "[CV]  max_depth=15, max_features=sqrt, min_samples_leaf=1, min_samples_split=10, n_estimators=500, total=   3.1s\n",
      "[CV] max_depth=15, max_features=sqrt, min_samples_leaf=2, min_samples_split=6, n_estimators=100 \n",
      "[CV]  max_depth=15, max_features=sqrt, min_samples_leaf=2, min_samples_split=6, n_estimators=100, total=   0.7s\n",
      "[CV] max_depth=15, max_features=sqrt, min_samples_leaf=2, min_samples_split=6, n_estimators=100 \n",
      "[CV]  max_depth=15, max_features=sqrt, min_samples_leaf=2, min_samples_split=6, n_estimators=100, total=   0.7s\n",
      "[CV] max_depth=15, max_features=sqrt, min_samples_leaf=2, min_samples_split=6, n_estimators=100 \n",
      "[CV]  max_depth=15, max_features=sqrt, min_samples_leaf=2, min_samples_split=6, n_estimators=100, total=   0.7s\n",
      "[CV] max_depth=15, max_features=sqrt, min_samples_leaf=2, min_samples_split=6, n_estimators=100 \n",
      "[CV]  max_depth=15, max_features=sqrt, min_samples_leaf=2, min_samples_split=6, n_estimators=100, total=   0.7s\n",
      "[CV] max_depth=15, max_features=sqrt, min_samples_leaf=2, min_samples_split=6, n_estimators=100 \n",
      "[CV]  max_depth=15, max_features=sqrt, min_samples_leaf=2, min_samples_split=6, n_estimators=100, total=   0.7s\n",
      "[CV] max_depth=15, max_features=sqrt, min_samples_leaf=2, min_samples_split=6, n_estimators=200 \n",
      "[CV]  max_depth=15, max_features=sqrt, min_samples_leaf=2, min_samples_split=6, n_estimators=200, total=   1.4s\n",
      "[CV] max_depth=15, max_features=sqrt, min_samples_leaf=2, min_samples_split=6, n_estimators=200 \n",
      "[CV]  max_depth=15, max_features=sqrt, min_samples_leaf=2, min_samples_split=6, n_estimators=200, total=   1.5s\n",
      "[CV] max_depth=15, max_features=sqrt, min_samples_leaf=2, min_samples_split=6, n_estimators=200 \n",
      "[CV]  max_depth=15, max_features=sqrt, min_samples_leaf=2, min_samples_split=6, n_estimators=200, total=   1.4s\n",
      "[CV] max_depth=15, max_features=sqrt, min_samples_leaf=2, min_samples_split=6, n_estimators=200 \n",
      "[CV]  max_depth=15, max_features=sqrt, min_samples_leaf=2, min_samples_split=6, n_estimators=200, total=   1.4s\n",
      "[CV] max_depth=15, max_features=sqrt, min_samples_leaf=2, min_samples_split=6, n_estimators=200 \n",
      "[CV]  max_depth=15, max_features=sqrt, min_samples_leaf=2, min_samples_split=6, n_estimators=200, total=   1.4s\n",
      "[CV] max_depth=15, max_features=sqrt, min_samples_leaf=2, min_samples_split=6, n_estimators=500 \n",
      "[CV]  max_depth=15, max_features=sqrt, min_samples_leaf=2, min_samples_split=6, n_estimators=500, total=   3.5s\n",
      "[CV] max_depth=15, max_features=sqrt, min_samples_leaf=2, min_samples_split=6, n_estimators=500 \n",
      "[CV]  max_depth=15, max_features=sqrt, min_samples_leaf=2, min_samples_split=6, n_estimators=500, total=   3.5s\n",
      "[CV] max_depth=15, max_features=sqrt, min_samples_leaf=2, min_samples_split=6, n_estimators=500 \n",
      "[CV]  max_depth=15, max_features=sqrt, min_samples_leaf=2, min_samples_split=6, n_estimators=500, total=   3.7s\n",
      "[CV] max_depth=15, max_features=sqrt, min_samples_leaf=2, min_samples_split=6, n_estimators=500 \n",
      "[CV]  max_depth=15, max_features=sqrt, min_samples_leaf=2, min_samples_split=6, n_estimators=500, total=   3.8s\n",
      "[CV] max_depth=15, max_features=sqrt, min_samples_leaf=2, min_samples_split=6, n_estimators=500 \n",
      "[CV]  max_depth=15, max_features=sqrt, min_samples_leaf=2, min_samples_split=6, n_estimators=500, total=   3.5s\n",
      "[CV] max_depth=15, max_features=sqrt, min_samples_leaf=2, min_samples_split=10, n_estimators=100 \n",
      "[CV]  max_depth=15, max_features=sqrt, min_samples_leaf=2, min_samples_split=10, n_estimators=100, total=   0.6s\n",
      "[CV] max_depth=15, max_features=sqrt, min_samples_leaf=2, min_samples_split=10, n_estimators=100 \n",
      "[CV]  max_depth=15, max_features=sqrt, min_samples_leaf=2, min_samples_split=10, n_estimators=100, total=   0.6s\n",
      "[CV] max_depth=15, max_features=sqrt, min_samples_leaf=2, min_samples_split=10, n_estimators=100 \n",
      "[CV]  max_depth=15, max_features=sqrt, min_samples_leaf=2, min_samples_split=10, n_estimators=100, total=   0.6s\n",
      "[CV] max_depth=15, max_features=sqrt, min_samples_leaf=2, min_samples_split=10, n_estimators=100 \n",
      "[CV]  max_depth=15, max_features=sqrt, min_samples_leaf=2, min_samples_split=10, n_estimators=100, total=   0.6s\n",
      "[CV] max_depth=15, max_features=sqrt, min_samples_leaf=2, min_samples_split=10, n_estimators=100 \n",
      "[CV]  max_depth=15, max_features=sqrt, min_samples_leaf=2, min_samples_split=10, n_estimators=100, total=   0.6s\n",
      "[CV] max_depth=15, max_features=sqrt, min_samples_leaf=2, min_samples_split=10, n_estimators=200 \n",
      "[CV]  max_depth=15, max_features=sqrt, min_samples_leaf=2, min_samples_split=10, n_estimators=200, total=   1.2s\n",
      "[CV] max_depth=15, max_features=sqrt, min_samples_leaf=2, min_samples_split=10, n_estimators=200 \n",
      "[CV]  max_depth=15, max_features=sqrt, min_samples_leaf=2, min_samples_split=10, n_estimators=200, total=   1.3s\n",
      "[CV] max_depth=15, max_features=sqrt, min_samples_leaf=2, min_samples_split=10, n_estimators=200 \n",
      "[CV]  max_depth=15, max_features=sqrt, min_samples_leaf=2, min_samples_split=10, n_estimators=200, total=   1.3s\n",
      "[CV] max_depth=15, max_features=sqrt, min_samples_leaf=2, min_samples_split=10, n_estimators=200 \n",
      "[CV]  max_depth=15, max_features=sqrt, min_samples_leaf=2, min_samples_split=10, n_estimators=200, total=   1.4s\n",
      "[CV] max_depth=15, max_features=sqrt, min_samples_leaf=2, min_samples_split=10, n_estimators=200 \n",
      "[CV]  max_depth=15, max_features=sqrt, min_samples_leaf=2, min_samples_split=10, n_estimators=200, total=   1.5s\n",
      "[CV] max_depth=15, max_features=sqrt, min_samples_leaf=2, min_samples_split=10, n_estimators=500 \n",
      "[CV]  max_depth=15, max_features=sqrt, min_samples_leaf=2, min_samples_split=10, n_estimators=500, total=   3.8s\n",
      "[CV] max_depth=15, max_features=sqrt, min_samples_leaf=2, min_samples_split=10, n_estimators=500 \n",
      "[CV]  max_depth=15, max_features=sqrt, min_samples_leaf=2, min_samples_split=10, n_estimators=500, total=   3.2s\n",
      "[CV] max_depth=15, max_features=sqrt, min_samples_leaf=2, min_samples_split=10, n_estimators=500 \n",
      "[CV]  max_depth=15, max_features=sqrt, min_samples_leaf=2, min_samples_split=10, n_estimators=500, total=   3.1s\n",
      "[CV] max_depth=15, max_features=sqrt, min_samples_leaf=2, min_samples_split=10, n_estimators=500 \n",
      "[CV]  max_depth=15, max_features=sqrt, min_samples_leaf=2, min_samples_split=10, n_estimators=500, total=   3.1s\n",
      "[CV] max_depth=15, max_features=sqrt, min_samples_leaf=2, min_samples_split=10, n_estimators=500 \n",
      "[CV]  max_depth=15, max_features=sqrt, min_samples_leaf=2, min_samples_split=10, n_estimators=500, total=   3.3s\n"
     ]
    },
    {
     "name": "stderr",
     "output_type": "stream",
     "text": [
      "[Parallel(n_jobs=1)]: Done 240 out of 240 | elapsed:  7.3min finished\n"
     ]
    },
    {
     "data": {
      "text/plain": [
       "GridSearchCV(cv=5, estimator=RandomForestRegressor(),\n",
       "             param_grid={'max_depth': [5, 15], 'max_features': ['auto', 'sqrt'],\n",
       "                         'min_samples_leaf': [1, 2],\n",
       "                         'min_samples_split': [6, 10],\n",
       "                         'n_estimators': [100, 200, 500]},\n",
       "             verbose=2)"
      ]
     },
     "execution_count": 85,
     "metadata": {},
     "output_type": "execute_result"
    }
   ],
   "source": [
    "gs_rfr = GridSearchCV(estimator=rfr,\n",
    "                           param_grid=grid,\n",
    "                           cv=5,\n",
    "                           verbose=2)\n",
    "\n",
    "gs_rfr.fit(X_train_1,y_train_1)"
   ]
  },
  {
   "cell_type": "code",
   "execution_count": 86,
   "metadata": {},
   "outputs": [
    {
     "data": {
      "text/plain": [
       "{'max_depth': 15,\n",
       " 'max_features': 'auto',\n",
       " 'min_samples_leaf': 1,\n",
       " 'min_samples_split': 6,\n",
       " 'n_estimators': 500}"
      ]
     },
     "execution_count": 86,
     "metadata": {},
     "output_type": "execute_result"
    }
   ],
   "source": [
    "gs_rfr.best_params_"
   ]
  },
  {
   "cell_type": "code",
   "execution_count": 90,
   "metadata": {},
   "outputs": [
    {
     "data": {
      "text/plain": [
       "{'bootstrap': True,\n",
       " 'ccp_alpha': 0.0,\n",
       " 'criterion': 'mse',\n",
       " 'max_depth': None,\n",
       " 'max_features': 'auto',\n",
       " 'max_leaf_nodes': None,\n",
       " 'max_samples': None,\n",
       " 'min_impurity_decrease': 0.0,\n",
       " 'min_impurity_split': None,\n",
       " 'min_samples_leaf': 1,\n",
       " 'min_samples_split': 2,\n",
       " 'min_weight_fraction_leaf': 0.0,\n",
       " 'n_estimators': 100,\n",
       " 'n_jobs': None,\n",
       " 'oob_score': False,\n",
       " 'random_state': None,\n",
       " 'verbose': 0,\n",
       " 'warm_start': False}"
      ]
     },
     "execution_count": 90,
     "metadata": {},
     "output_type": "execute_result"
    }
   ],
   "source": [
    "rfr.get_params()"
   ]
  },
  {
   "cell_type": "code",
   "execution_count": 88,
   "metadata": {},
   "outputs": [
    {
     "name": "stdout",
     "output_type": "stream",
     "text": [
      "MAE: 1.4994298506609116\n",
      "MSE: 18.251311389811157\n"
     ]
    }
   ],
   "source": [
    "gs_rfr_y_preds_valid = gs_rfr.predict(X_val)\n",
    "gs_rfr_y_preds_test = gs_rfr.predict(X_test_1)\n",
    "\n",
    "model_metrics(y_test_1,gs_rfr_y_preds_test)"
   ]
  },
  {
   "cell_type": "code",
   "execution_count": 91,
   "metadata": {},
   "outputs": [],
   "source": [
    "grid={'n_estimators': [200, 500],\n",
    "    'max_features': ['auto', 'sqrt', 'log2'],\n",
    "    'max_depth' : [4,5,6,7,8]\n",
    "     }"
   ]
  },
  {
   "cell_type": "code",
   "execution_count": 92,
   "metadata": {},
   "outputs": [
    {
     "name": "stdout",
     "output_type": "stream",
     "text": [
      "Fitting 5 folds for each of 30 candidates, totalling 150 fits\n",
      "[CV] max_depth=4, max_features=auto, n_estimators=200 ................\n"
     ]
    },
    {
     "name": "stderr",
     "output_type": "stream",
     "text": [
      "[Parallel(n_jobs=1)]: Using backend SequentialBackend with 1 concurrent workers.\n"
     ]
    },
    {
     "name": "stdout",
     "output_type": "stream",
     "text": [
      "[CV] . max_depth=4, max_features=auto, n_estimators=200, total=   1.0s\n",
      "[CV] max_depth=4, max_features=auto, n_estimators=200 ................\n"
     ]
    },
    {
     "name": "stderr",
     "output_type": "stream",
     "text": [
      "[Parallel(n_jobs=1)]: Done   1 out of   1 | elapsed:    0.9s remaining:    0.0s\n"
     ]
    },
    {
     "name": "stdout",
     "output_type": "stream",
     "text": [
      "[CV] . max_depth=4, max_features=auto, n_estimators=200, total=   1.0s\n",
      "[CV] max_depth=4, max_features=auto, n_estimators=200 ................\n",
      "[CV] . max_depth=4, max_features=auto, n_estimators=200, total=   1.1s\n",
      "[CV] max_depth=4, max_features=auto, n_estimators=200 ................\n",
      "[CV] . max_depth=4, max_features=auto, n_estimators=200, total=   1.3s\n",
      "[CV] max_depth=4, max_features=auto, n_estimators=200 ................\n",
      "[CV] . max_depth=4, max_features=auto, n_estimators=200, total=   1.4s\n",
      "[CV] max_depth=4, max_features=auto, n_estimators=500 ................\n",
      "[CV] . max_depth=4, max_features=auto, n_estimators=500, total=   3.9s\n",
      "[CV] max_depth=4, max_features=auto, n_estimators=500 ................\n",
      "[CV] . max_depth=4, max_features=auto, n_estimators=500, total=   3.0s\n",
      "[CV] max_depth=4, max_features=auto, n_estimators=500 ................\n",
      "[CV] . max_depth=4, max_features=auto, n_estimators=500, total=   3.6s\n",
      "[CV] max_depth=4, max_features=auto, n_estimators=500 ................\n",
      "[CV] . max_depth=4, max_features=auto, n_estimators=500, total=   4.2s\n",
      "[CV] max_depth=4, max_features=auto, n_estimators=500 ................\n",
      "[CV] . max_depth=4, max_features=auto, n_estimators=500, total=   3.0s\n",
      "[CV] max_depth=4, max_features=sqrt, n_estimators=200 ................\n",
      "[CV] . max_depth=4, max_features=sqrt, n_estimators=200, total=   1.0s\n",
      "[CV] max_depth=4, max_features=sqrt, n_estimators=200 ................\n",
      "[CV] . max_depth=4, max_features=sqrt, n_estimators=200, total=   1.2s\n",
      "[CV] max_depth=4, max_features=sqrt, n_estimators=200 ................\n",
      "[CV] . max_depth=4, max_features=sqrt, n_estimators=200, total=   1.4s\n",
      "[CV] max_depth=4, max_features=sqrt, n_estimators=200 ................\n",
      "[CV] . max_depth=4, max_features=sqrt, n_estimators=200, total=   2.0s\n",
      "[CV] max_depth=4, max_features=sqrt, n_estimators=200 ................\n",
      "[CV] . max_depth=4, max_features=sqrt, n_estimators=200, total=   1.0s\n",
      "[CV] max_depth=4, max_features=sqrt, n_estimators=500 ................\n",
      "[CV] . max_depth=4, max_features=sqrt, n_estimators=500, total=   2.5s\n",
      "[CV] max_depth=4, max_features=sqrt, n_estimators=500 ................\n",
      "[CV] . max_depth=4, max_features=sqrt, n_estimators=500, total=   2.4s\n",
      "[CV] max_depth=4, max_features=sqrt, n_estimators=500 ................\n",
      "[CV] . max_depth=4, max_features=sqrt, n_estimators=500, total=   2.4s\n",
      "[CV] max_depth=4, max_features=sqrt, n_estimators=500 ................\n",
      "[CV] . max_depth=4, max_features=sqrt, n_estimators=500, total=   3.0s\n",
      "[CV] max_depth=4, max_features=sqrt, n_estimators=500 ................\n",
      "[CV] . max_depth=4, max_features=sqrt, n_estimators=500, total=   2.7s\n",
      "[CV] max_depth=4, max_features=log2, n_estimators=200 ................\n",
      "[CV] . max_depth=4, max_features=log2, n_estimators=200, total=   1.4s\n",
      "[CV] max_depth=4, max_features=log2, n_estimators=200 ................\n",
      "[CV] . max_depth=4, max_features=log2, n_estimators=200, total=   1.1s\n",
      "[CV] max_depth=4, max_features=log2, n_estimators=200 ................\n",
      "[CV] . max_depth=4, max_features=log2, n_estimators=200, total=   0.9s\n",
      "[CV] max_depth=4, max_features=log2, n_estimators=200 ................\n",
      "[CV] . max_depth=4, max_features=log2, n_estimators=200, total=   0.8s\n",
      "[CV] max_depth=4, max_features=log2, n_estimators=200 ................\n",
      "[CV] . max_depth=4, max_features=log2, n_estimators=200, total=   1.2s\n",
      "[CV] max_depth=4, max_features=log2, n_estimators=500 ................\n",
      "[CV] . max_depth=4, max_features=log2, n_estimators=500, total=   2.4s\n",
      "[CV] max_depth=4, max_features=log2, n_estimators=500 ................\n",
      "[CV] . max_depth=4, max_features=log2, n_estimators=500, total=   3.7s\n",
      "[CV] max_depth=4, max_features=log2, n_estimators=500 ................\n",
      "[CV] . max_depth=4, max_features=log2, n_estimators=500, total=   3.9s\n",
      "[CV] max_depth=4, max_features=log2, n_estimators=500 ................\n",
      "[CV] . max_depth=4, max_features=log2, n_estimators=500, total=   3.3s\n",
      "[CV] max_depth=4, max_features=log2, n_estimators=500 ................\n",
      "[CV] . max_depth=4, max_features=log2, n_estimators=500, total=   2.2s\n",
      "[CV] max_depth=5, max_features=auto, n_estimators=200 ................\n",
      "[CV] . max_depth=5, max_features=auto, n_estimators=200, total=   1.7s\n",
      "[CV] max_depth=5, max_features=auto, n_estimators=200 ................\n",
      "[CV] . max_depth=5, max_features=auto, n_estimators=200, total=   1.3s\n",
      "[CV] max_depth=5, max_features=auto, n_estimators=200 ................\n",
      "[CV] . max_depth=5, max_features=auto, n_estimators=200, total=   1.5s\n",
      "[CV] max_depth=5, max_features=auto, n_estimators=200 ................\n",
      "[CV] . max_depth=5, max_features=auto, n_estimators=200, total=   1.4s\n",
      "[CV] max_depth=5, max_features=auto, n_estimators=200 ................\n",
      "[CV] . max_depth=5, max_features=auto, n_estimators=200, total=   1.0s\n",
      "[CV] max_depth=5, max_features=auto, n_estimators=500 ................\n",
      "[CV] . max_depth=5, max_features=auto, n_estimators=500, total=   3.0s\n",
      "[CV] max_depth=5, max_features=auto, n_estimators=500 ................\n",
      "[CV] . max_depth=5, max_features=auto, n_estimators=500, total=   3.5s\n",
      "[CV] max_depth=5, max_features=auto, n_estimators=500 ................\n",
      "[CV] . max_depth=5, max_features=auto, n_estimators=500, total=   3.2s\n",
      "[CV] max_depth=5, max_features=auto, n_estimators=500 ................\n",
      "[CV] . max_depth=5, max_features=auto, n_estimators=500, total=   3.2s\n",
      "[CV] max_depth=5, max_features=auto, n_estimators=500 ................\n",
      "[CV] . max_depth=5, max_features=auto, n_estimators=500, total=   4.1s\n",
      "[CV] max_depth=5, max_features=sqrt, n_estimators=200 ................\n",
      "[CV] . max_depth=5, max_features=sqrt, n_estimators=200, total=   1.2s\n",
      "[CV] max_depth=5, max_features=sqrt, n_estimators=200 ................\n",
      "[CV] . max_depth=5, max_features=sqrt, n_estimators=200, total=   1.2s\n",
      "[CV] max_depth=5, max_features=sqrt, n_estimators=200 ................\n",
      "[CV] . max_depth=5, max_features=sqrt, n_estimators=200, total=   1.1s\n",
      "[CV] max_depth=5, max_features=sqrt, n_estimators=200 ................\n",
      "[CV] . max_depth=5, max_features=sqrt, n_estimators=200, total=   1.2s\n",
      "[CV] max_depth=5, max_features=sqrt, n_estimators=200 ................\n",
      "[CV] . max_depth=5, max_features=sqrt, n_estimators=200, total=   0.8s\n",
      "[CV] max_depth=5, max_features=sqrt, n_estimators=500 ................\n",
      "[CV] . max_depth=5, max_features=sqrt, n_estimators=500, total=   2.4s\n",
      "[CV] max_depth=5, max_features=sqrt, n_estimators=500 ................\n",
      "[CV] . max_depth=5, max_features=sqrt, n_estimators=500, total=   2.3s\n",
      "[CV] max_depth=5, max_features=sqrt, n_estimators=500 ................\n",
      "[CV] . max_depth=5, max_features=sqrt, n_estimators=500, total=   2.5s\n",
      "[CV] max_depth=5, max_features=sqrt, n_estimators=500 ................\n",
      "[CV] . max_depth=5, max_features=sqrt, n_estimators=500, total=   2.6s\n",
      "[CV] max_depth=5, max_features=sqrt, n_estimators=500 ................\n",
      "[CV] . max_depth=5, max_features=sqrt, n_estimators=500, total=   2.5s\n",
      "[CV] max_depth=5, max_features=log2, n_estimators=200 ................\n",
      "[CV] . max_depth=5, max_features=log2, n_estimators=200, total=   1.1s\n",
      "[CV] max_depth=5, max_features=log2, n_estimators=200 ................\n",
      "[CV] . max_depth=5, max_features=log2, n_estimators=200, total=   0.8s\n",
      "[CV] max_depth=5, max_features=log2, n_estimators=200 ................\n",
      "[CV] . max_depth=5, max_features=log2, n_estimators=200, total=   0.9s\n",
      "[CV] max_depth=5, max_features=log2, n_estimators=200 ................\n",
      "[CV] . max_depth=5, max_features=log2, n_estimators=200, total=   0.9s\n",
      "[CV] max_depth=5, max_features=log2, n_estimators=200 ................\n",
      "[CV] . max_depth=5, max_features=log2, n_estimators=200, total=   1.1s\n",
      "[CV] max_depth=5, max_features=log2, n_estimators=500 ................\n",
      "[CV] . max_depth=5, max_features=log2, n_estimators=500, total=   2.9s\n",
      "[CV] max_depth=5, max_features=log2, n_estimators=500 ................\n",
      "[CV] . max_depth=5, max_features=log2, n_estimators=500, total=   2.6s\n",
      "[CV] max_depth=5, max_features=log2, n_estimators=500 ................\n",
      "[CV] . max_depth=5, max_features=log2, n_estimators=500, total=   2.2s\n",
      "[CV] max_depth=5, max_features=log2, n_estimators=500 ................\n",
      "[CV] . max_depth=5, max_features=log2, n_estimators=500, total=   2.8s\n",
      "[CV] max_depth=5, max_features=log2, n_estimators=500 ................\n",
      "[CV] . max_depth=5, max_features=log2, n_estimators=500, total=   2.6s\n",
      "[CV] max_depth=6, max_features=auto, n_estimators=200 ................\n",
      "[CV] . max_depth=6, max_features=auto, n_estimators=200, total=   1.4s\n",
      "[CV] max_depth=6, max_features=auto, n_estimators=200 ................\n",
      "[CV] . max_depth=6, max_features=auto, n_estimators=200, total=   1.6s\n",
      "[CV] max_depth=6, max_features=auto, n_estimators=200 ................\n",
      "[CV] . max_depth=6, max_features=auto, n_estimators=200, total=   1.6s\n",
      "[CV] max_depth=6, max_features=auto, n_estimators=200 ................\n",
      "[CV] . max_depth=6, max_features=auto, n_estimators=200, total=   1.6s\n",
      "[CV] max_depth=6, max_features=auto, n_estimators=200 ................\n",
      "[CV] . max_depth=6, max_features=auto, n_estimators=200, total=   1.4s\n",
      "[CV] max_depth=6, max_features=auto, n_estimators=500 ................\n",
      "[CV] . max_depth=6, max_features=auto, n_estimators=500, total=   3.4s\n",
      "[CV] max_depth=6, max_features=auto, n_estimators=500 ................\n",
      "[CV] . max_depth=6, max_features=auto, n_estimators=500, total=   3.8s\n",
      "[CV] max_depth=6, max_features=auto, n_estimators=500 ................\n",
      "[CV] . max_depth=6, max_features=auto, n_estimators=500, total=   4.0s\n",
      "[CV] max_depth=6, max_features=auto, n_estimators=500 ................\n",
      "[CV] . max_depth=6, max_features=auto, n_estimators=500, total=   4.4s\n",
      "[CV] max_depth=6, max_features=auto, n_estimators=500 ................\n",
      "[CV] . max_depth=6, max_features=auto, n_estimators=500, total=   5.4s\n",
      "[CV] max_depth=6, max_features=sqrt, n_estimators=200 ................\n",
      "[CV] . max_depth=6, max_features=sqrt, n_estimators=200, total=   1.1s\n",
      "[CV] max_depth=6, max_features=sqrt, n_estimators=200 ................\n",
      "[CV] . max_depth=6, max_features=sqrt, n_estimators=200, total=   0.9s\n",
      "[CV] max_depth=6, max_features=sqrt, n_estimators=200 ................\n",
      "[CV] . max_depth=6, max_features=sqrt, n_estimators=200, total=   0.8s\n",
      "[CV] max_depth=6, max_features=sqrt, n_estimators=200 ................\n",
      "[CV] . max_depth=6, max_features=sqrt, n_estimators=200, total=   0.8s\n",
      "[CV] max_depth=6, max_features=sqrt, n_estimators=200 ................\n",
      "[CV] . max_depth=6, max_features=sqrt, n_estimators=200, total=   1.1s\n",
      "[CV] max_depth=6, max_features=sqrt, n_estimators=500 ................\n",
      "[CV] . max_depth=6, max_features=sqrt, n_estimators=500, total=   2.5s\n",
      "[CV] max_depth=6, max_features=sqrt, n_estimators=500 ................\n",
      "[CV] . max_depth=6, max_features=sqrt, n_estimators=500, total=   2.0s\n",
      "[CV] max_depth=6, max_features=sqrt, n_estimators=500 ................\n",
      "[CV] . max_depth=6, max_features=sqrt, n_estimators=500, total=   2.0s\n",
      "[CV] max_depth=6, max_features=sqrt, n_estimators=500 ................\n",
      "[CV] . max_depth=6, max_features=sqrt, n_estimators=500, total=   2.6s\n",
      "[CV] max_depth=6, max_features=sqrt, n_estimators=500 ................\n",
      "[CV] . max_depth=6, max_features=sqrt, n_estimators=500, total=   2.3s\n",
      "[CV] max_depth=6, max_features=log2, n_estimators=200 ................\n",
      "[CV] . max_depth=6, max_features=log2, n_estimators=200, total=   0.9s\n",
      "[CV] max_depth=6, max_features=log2, n_estimators=200 ................\n",
      "[CV] . max_depth=6, max_features=log2, n_estimators=200, total=   0.7s\n",
      "[CV] max_depth=6, max_features=log2, n_estimators=200 ................\n",
      "[CV] . max_depth=6, max_features=log2, n_estimators=200, total=   1.0s\n",
      "[CV] max_depth=6, max_features=log2, n_estimators=200 ................\n",
      "[CV] . max_depth=6, max_features=log2, n_estimators=200, total=   0.8s\n",
      "[CV] max_depth=6, max_features=log2, n_estimators=200 ................\n",
      "[CV] . max_depth=6, max_features=log2, n_estimators=200, total=   0.9s\n",
      "[CV] max_depth=6, max_features=log2, n_estimators=500 ................\n",
      "[CV] . max_depth=6, max_features=log2, n_estimators=500, total=   2.3s\n",
      "[CV] max_depth=6, max_features=log2, n_estimators=500 ................\n",
      "[CV] . max_depth=6, max_features=log2, n_estimators=500, total=   3.0s\n",
      "[CV] max_depth=6, max_features=log2, n_estimators=500 ................\n",
      "[CV] . max_depth=6, max_features=log2, n_estimators=500, total=   2.7s\n",
      "[CV] max_depth=6, max_features=log2, n_estimators=500 ................\n",
      "[CV] . max_depth=6, max_features=log2, n_estimators=500, total=   2.5s\n",
      "[CV] max_depth=6, max_features=log2, n_estimators=500 ................\n",
      "[CV] . max_depth=6, max_features=log2, n_estimators=500, total=   3.0s\n",
      "[CV] max_depth=7, max_features=auto, n_estimators=200 ................\n",
      "[CV] . max_depth=7, max_features=auto, n_estimators=200, total=   1.9s\n",
      "[CV] max_depth=7, max_features=auto, n_estimators=200 ................\n",
      "[CV] . max_depth=7, max_features=auto, n_estimators=200, total=   1.6s\n",
      "[CV] max_depth=7, max_features=auto, n_estimators=200 ................\n",
      "[CV] . max_depth=7, max_features=auto, n_estimators=200, total=   1.6s\n",
      "[CV] max_depth=7, max_features=auto, n_estimators=200 ................\n",
      "[CV] . max_depth=7, max_features=auto, n_estimators=200, total=   1.8s\n",
      "[CV] max_depth=7, max_features=auto, n_estimators=200 ................\n",
      "[CV] . max_depth=7, max_features=auto, n_estimators=200, total=   1.7s\n",
      "[CV] max_depth=7, max_features=auto, n_estimators=500 ................\n",
      "[CV] . max_depth=7, max_features=auto, n_estimators=500, total=   3.8s\n",
      "[CV] max_depth=7, max_features=auto, n_estimators=500 ................\n",
      "[CV] . max_depth=7, max_features=auto, n_estimators=500, total=   4.7s\n",
      "[CV] max_depth=7, max_features=auto, n_estimators=500 ................\n",
      "[CV] . max_depth=7, max_features=auto, n_estimators=500, total=   4.1s\n",
      "[CV] max_depth=7, max_features=auto, n_estimators=500 ................\n",
      "[CV] . max_depth=7, max_features=auto, n_estimators=500, total=   3.9s\n",
      "[CV] max_depth=7, max_features=auto, n_estimators=500 ................\n",
      "[CV] . max_depth=7, max_features=auto, n_estimators=500, total=   3.7s\n",
      "[CV] max_depth=7, max_features=sqrt, n_estimators=200 ................\n",
      "[CV] . max_depth=7, max_features=sqrt, n_estimators=200, total=   1.1s\n",
      "[CV] max_depth=7, max_features=sqrt, n_estimators=200 ................\n",
      "[CV] . max_depth=7, max_features=sqrt, n_estimators=200, total=   1.1s\n",
      "[CV] max_depth=7, max_features=sqrt, n_estimators=200 ................\n",
      "[CV] . max_depth=7, max_features=sqrt, n_estimators=200, total=   1.4s\n",
      "[CV] max_depth=7, max_features=sqrt, n_estimators=200 ................\n",
      "[CV] . max_depth=7, max_features=sqrt, n_estimators=200, total=   1.1s\n",
      "[CV] max_depth=7, max_features=sqrt, n_estimators=200 ................\n",
      "[CV] . max_depth=7, max_features=sqrt, n_estimators=200, total=   1.1s\n",
      "[CV] max_depth=7, max_features=sqrt, n_estimators=500 ................\n",
      "[CV] . max_depth=7, max_features=sqrt, n_estimators=500, total=   3.1s\n",
      "[CV] max_depth=7, max_features=sqrt, n_estimators=500 ................\n",
      "[CV] . max_depth=7, max_features=sqrt, n_estimators=500, total=   2.5s\n",
      "[CV] max_depth=7, max_features=sqrt, n_estimators=500 ................\n",
      "[CV] . max_depth=7, max_features=sqrt, n_estimators=500, total=   2.6s\n",
      "[CV] max_depth=7, max_features=sqrt, n_estimators=500 ................\n",
      "[CV] . max_depth=7, max_features=sqrt, n_estimators=500, total=   2.7s\n",
      "[CV] max_depth=7, max_features=sqrt, n_estimators=500 ................\n",
      "[CV] . max_depth=7, max_features=sqrt, n_estimators=500, total=   2.9s\n",
      "[CV] max_depth=7, max_features=log2, n_estimators=200 ................\n",
      "[CV] . max_depth=7, max_features=log2, n_estimators=200, total=   1.1s\n",
      "[CV] max_depth=7, max_features=log2, n_estimators=200 ................\n",
      "[CV] . max_depth=7, max_features=log2, n_estimators=200, total=   1.2s\n",
      "[CV] max_depth=7, max_features=log2, n_estimators=200 ................\n",
      "[CV] . max_depth=7, max_features=log2, n_estimators=200, total=   1.2s\n",
      "[CV] max_depth=7, max_features=log2, n_estimators=200 ................\n",
      "[CV] . max_depth=7, max_features=log2, n_estimators=200, total=   1.1s\n",
      "[CV] max_depth=7, max_features=log2, n_estimators=200 ................\n",
      "[CV] . max_depth=7, max_features=log2, n_estimators=200, total=   1.1s\n",
      "[CV] max_depth=7, max_features=log2, n_estimators=500 ................\n",
      "[CV] . max_depth=7, max_features=log2, n_estimators=500, total=   2.9s\n",
      "[CV] max_depth=7, max_features=log2, n_estimators=500 ................\n",
      "[CV] . max_depth=7, max_features=log2, n_estimators=500, total=   3.1s\n",
      "[CV] max_depth=7, max_features=log2, n_estimators=500 ................\n",
      "[CV] . max_depth=7, max_features=log2, n_estimators=500, total=   2.8s\n",
      "[CV] max_depth=7, max_features=log2, n_estimators=500 ................\n",
      "[CV] . max_depth=7, max_features=log2, n_estimators=500, total=   3.4s\n",
      "[CV] max_depth=7, max_features=log2, n_estimators=500 ................\n",
      "[CV] . max_depth=7, max_features=log2, n_estimators=500, total=   3.0s\n",
      "[CV] max_depth=8, max_features=auto, n_estimators=200 ................\n",
      "[CV] . max_depth=8, max_features=auto, n_estimators=200, total=   1.6s\n",
      "[CV] max_depth=8, max_features=auto, n_estimators=200 ................\n",
      "[CV] . max_depth=8, max_features=auto, n_estimators=200, total=   1.8s\n",
      "[CV] max_depth=8, max_features=auto, n_estimators=200 ................\n",
      "[CV] . max_depth=8, max_features=auto, n_estimators=200, total=   1.8s\n",
      "[CV] max_depth=8, max_features=auto, n_estimators=200 ................\n",
      "[CV] . max_depth=8, max_features=auto, n_estimators=200, total=   1.8s\n",
      "[CV] max_depth=8, max_features=auto, n_estimators=200 ................\n",
      "[CV] . max_depth=8, max_features=auto, n_estimators=200, total=   1.8s\n",
      "[CV] max_depth=8, max_features=auto, n_estimators=500 ................\n",
      "[CV] . max_depth=8, max_features=auto, n_estimators=500, total=   4.2s\n",
      "[CV] max_depth=8, max_features=auto, n_estimators=500 ................\n",
      "[CV] . max_depth=8, max_features=auto, n_estimators=500, total=   4.7s\n",
      "[CV] max_depth=8, max_features=auto, n_estimators=500 ................\n",
      "[CV] . max_depth=8, max_features=auto, n_estimators=500, total=   4.7s\n",
      "[CV] max_depth=8, max_features=auto, n_estimators=500 ................\n",
      "[CV] . max_depth=8, max_features=auto, n_estimators=500, total=   4.2s\n",
      "[CV] max_depth=8, max_features=auto, n_estimators=500 ................\n",
      "[CV] . max_depth=8, max_features=auto, n_estimators=500, total=   4.6s\n",
      "[CV] max_depth=8, max_features=sqrt, n_estimators=200 ................\n",
      "[CV] . max_depth=8, max_features=sqrt, n_estimators=200, total=   1.5s\n",
      "[CV] max_depth=8, max_features=sqrt, n_estimators=200 ................\n",
      "[CV] . max_depth=8, max_features=sqrt, n_estimators=200, total=   1.1s\n",
      "[CV] max_depth=8, max_features=sqrt, n_estimators=200 ................\n",
      "[CV] . max_depth=8, max_features=sqrt, n_estimators=200, total=   1.3s\n",
      "[CV] max_depth=8, max_features=sqrt, n_estimators=200 ................\n",
      "[CV] . max_depth=8, max_features=sqrt, n_estimators=200, total=   1.5s\n",
      "[CV] max_depth=8, max_features=sqrt, n_estimators=200 ................\n",
      "[CV] . max_depth=8, max_features=sqrt, n_estimators=200, total=   1.6s\n",
      "[CV] max_depth=8, max_features=sqrt, n_estimators=500 ................\n",
      "[CV] . max_depth=8, max_features=sqrt, n_estimators=500, total=   4.2s\n",
      "[CV] max_depth=8, max_features=sqrt, n_estimators=500 ................\n",
      "[CV] . max_depth=8, max_features=sqrt, n_estimators=500, total=   3.3s\n",
      "[CV] max_depth=8, max_features=sqrt, n_estimators=500 ................\n",
      "[CV] . max_depth=8, max_features=sqrt, n_estimators=500, total=   3.6s\n",
      "[CV] max_depth=8, max_features=sqrt, n_estimators=500 ................\n",
      "[CV] . max_depth=8, max_features=sqrt, n_estimators=500, total=   4.0s\n",
      "[CV] max_depth=8, max_features=sqrt, n_estimators=500 ................\n",
      "[CV] . max_depth=8, max_features=sqrt, n_estimators=500, total=   3.4s\n",
      "[CV] max_depth=8, max_features=log2, n_estimators=200 ................\n",
      "[CV] . max_depth=8, max_features=log2, n_estimators=200, total=   1.5s\n",
      "[CV] max_depth=8, max_features=log2, n_estimators=200 ................\n",
      "[CV] . max_depth=8, max_features=log2, n_estimators=200, total=   1.2s\n",
      "[CV] max_depth=8, max_features=log2, n_estimators=200 ................\n",
      "[CV] . max_depth=8, max_features=log2, n_estimators=200, total=   1.5s\n",
      "[CV] max_depth=8, max_features=log2, n_estimators=200 ................\n",
      "[CV] . max_depth=8, max_features=log2, n_estimators=200, total=   2.0s\n",
      "[CV] max_depth=8, max_features=log2, n_estimators=200 ................\n",
      "[CV] . max_depth=8, max_features=log2, n_estimators=200, total=   2.1s\n",
      "[CV] max_depth=8, max_features=log2, n_estimators=500 ................\n",
      "[CV] . max_depth=8, max_features=log2, n_estimators=500, total=   3.4s\n",
      "[CV] max_depth=8, max_features=log2, n_estimators=500 ................\n",
      "[CV] . max_depth=8, max_features=log2, n_estimators=500, total=   3.5s\n",
      "[CV] max_depth=8, max_features=log2, n_estimators=500 ................\n",
      "[CV] . max_depth=8, max_features=log2, n_estimators=500, total=   2.3s\n",
      "[CV] max_depth=8, max_features=log2, n_estimators=500 ................\n",
      "[CV] . max_depth=8, max_features=log2, n_estimators=500, total=   2.6s\n",
      "[CV] max_depth=8, max_features=log2, n_estimators=500 ................\n",
      "[CV] . max_depth=8, max_features=log2, n_estimators=500, total=   2.4s\n"
     ]
    },
    {
     "name": "stderr",
     "output_type": "stream",
     "text": [
      "[Parallel(n_jobs=1)]: Done 150 out of 150 | elapsed:  5.6min finished\n"
     ]
    },
    {
     "data": {
      "text/plain": [
       "GridSearchCV(cv=5, estimator=RandomForestRegressor(),\n",
       "             param_grid={'max_depth': [4, 5, 6, 7, 8],\n",
       "                         'max_features': ['auto', 'sqrt', 'log2'],\n",
       "                         'n_estimators': [200, 500]},\n",
       "             verbose=2)"
      ]
     },
     "execution_count": 92,
     "metadata": {},
     "output_type": "execute_result"
    }
   ],
   "source": [
    "gs_rfr = GridSearchCV(estimator=rfr,\n",
    "                           param_grid=grid,\n",
    "                           cv=5,\n",
    "                           verbose=2)\n",
    "\n",
    "gs_rfr.fit(X_train_1,y_train_1)"
   ]
  },
  {
   "cell_type": "code",
   "execution_count": 93,
   "metadata": {},
   "outputs": [
    {
     "data": {
      "text/plain": [
       "{'max_depth': 8, 'max_features': 'auto', 'n_estimators': 200}"
      ]
     },
     "execution_count": 93,
     "metadata": {},
     "output_type": "execute_result"
    }
   ],
   "source": [
    "gs_rfr.best_params_"
   ]
  },
  {
   "cell_type": "code",
   "execution_count": 94,
   "metadata": {},
   "outputs": [
    {
     "name": "stdout",
     "output_type": "stream",
     "text": [
      "MAE: 26.2645619302658\n",
      "MSE: 2793.4657638606277\n"
     ]
    }
   ],
   "source": [
    "gs_rfr_y_preds_valid = gs_rfr.predict(X_val)\n",
    "gs_rfr_y_preds_test = gs_rfr.predict(X_test_1)\n",
    "\n",
    "model_metrics(y_test_1,gs_rfr_y_preds_test)"
   ]
  },
  {
   "cell_type": "code",
   "execution_count": 95,
   "metadata": {},
   "outputs": [
    {
     "name": "stdout",
     "output_type": "stream",
     "text": [
      "MAE: 26.486955446025892\n",
      "MSE: 2917.1050124692797\n"
     ]
    }
   ],
   "source": [
    "model_metrics(y_val,gs_rfr_y_preds_valid)"
   ]
  },
  {
   "cell_type": "code",
   "execution_count": 96,
   "metadata": {},
   "outputs": [],
   "source": [
    "from sklearn.model_selection import RandomizedSearchCV"
   ]
  },
  {
   "cell_type": "code",
   "execution_count": 97,
   "metadata": {},
   "outputs": [],
   "source": [
    "grid = {\"n_estimators\":[10,100,200,500,1000,1200],\n",
    "       \"max_depth\":[None,5,10,20,30],\n",
    "       \"max_features\":[\"auto\",\"sqrt\"],\n",
    "       \"min_samples_split\":[2,4,6],\n",
    "       \"min_samples_leaf\":[1,2,4]}"
   ]
  },
  {
   "cell_type": "code",
   "execution_count": 100,
   "metadata": {},
   "outputs": [
    {
     "name": "stdout",
     "output_type": "stream",
     "text": [
      "Fitting 5 folds for each of 30 candidates, totalling 150 fits\n",
      "[CV] n_estimators=100, min_samples_split=4, min_samples_leaf=4, max_features=sqrt, max_depth=30 \n"
     ]
    },
    {
     "name": "stderr",
     "output_type": "stream",
     "text": [
      "[Parallel(n_jobs=1)]: Using backend SequentialBackend with 1 concurrent workers.\n"
     ]
    },
    {
     "name": "stdout",
     "output_type": "stream",
     "text": [
      "[CV]  n_estimators=100, min_samples_split=4, min_samples_leaf=4, max_features=sqrt, max_depth=30, total=   0.6s\n",
      "[CV] n_estimators=100, min_samples_split=4, min_samples_leaf=4, max_features=sqrt, max_depth=30 \n"
     ]
    },
    {
     "name": "stderr",
     "output_type": "stream",
     "text": [
      "[Parallel(n_jobs=1)]: Done   1 out of   1 | elapsed:    0.5s remaining:    0.0s\n"
     ]
    },
    {
     "name": "stdout",
     "output_type": "stream",
     "text": [
      "[CV]  n_estimators=100, min_samples_split=4, min_samples_leaf=4, max_features=sqrt, max_depth=30, total=   0.7s\n",
      "[CV] n_estimators=100, min_samples_split=4, min_samples_leaf=4, max_features=sqrt, max_depth=30 \n",
      "[CV]  n_estimators=100, min_samples_split=4, min_samples_leaf=4, max_features=sqrt, max_depth=30, total=   0.7s\n",
      "[CV] n_estimators=100, min_samples_split=4, min_samples_leaf=4, max_features=sqrt, max_depth=30 \n",
      "[CV]  n_estimators=100, min_samples_split=4, min_samples_leaf=4, max_features=sqrt, max_depth=30, total=   1.1s\n",
      "[CV] n_estimators=100, min_samples_split=4, min_samples_leaf=4, max_features=sqrt, max_depth=30 \n",
      "[CV]  n_estimators=100, min_samples_split=4, min_samples_leaf=4, max_features=sqrt, max_depth=30, total=   1.1s\n",
      "[CV] n_estimators=100, min_samples_split=2, min_samples_leaf=2, max_features=sqrt, max_depth=30 \n",
      "[CV]  n_estimators=100, min_samples_split=2, min_samples_leaf=2, max_features=sqrt, max_depth=30, total=   0.9s\n",
      "[CV] n_estimators=100, min_samples_split=2, min_samples_leaf=2, max_features=sqrt, max_depth=30 \n",
      "[CV]  n_estimators=100, min_samples_split=2, min_samples_leaf=2, max_features=sqrt, max_depth=30, total=   0.9s\n",
      "[CV] n_estimators=100, min_samples_split=2, min_samples_leaf=2, max_features=sqrt, max_depth=30 \n",
      "[CV]  n_estimators=100, min_samples_split=2, min_samples_leaf=2, max_features=sqrt, max_depth=30, total=   1.0s\n",
      "[CV] n_estimators=100, min_samples_split=2, min_samples_leaf=2, max_features=sqrt, max_depth=30 \n",
      "[CV]  n_estimators=100, min_samples_split=2, min_samples_leaf=2, max_features=sqrt, max_depth=30, total=   0.8s\n",
      "[CV] n_estimators=100, min_samples_split=2, min_samples_leaf=2, max_features=sqrt, max_depth=30 \n",
      "[CV]  n_estimators=100, min_samples_split=2, min_samples_leaf=2, max_features=sqrt, max_depth=30, total=   0.8s\n",
      "[CV] n_estimators=1000, min_samples_split=2, min_samples_leaf=1, max_features=sqrt, max_depth=None \n",
      "[CV]  n_estimators=1000, min_samples_split=2, min_samples_leaf=1, max_features=sqrt, max_depth=None, total=  12.6s\n",
      "[CV] n_estimators=1000, min_samples_split=2, min_samples_leaf=1, max_features=sqrt, max_depth=None \n",
      "[CV]  n_estimators=1000, min_samples_split=2, min_samples_leaf=1, max_features=sqrt, max_depth=None, total=  11.6s\n",
      "[CV] n_estimators=1000, min_samples_split=2, min_samples_leaf=1, max_features=sqrt, max_depth=None \n",
      "[CV]  n_estimators=1000, min_samples_split=2, min_samples_leaf=1, max_features=sqrt, max_depth=None, total=  11.5s\n",
      "[CV] n_estimators=1000, min_samples_split=2, min_samples_leaf=1, max_features=sqrt, max_depth=None \n",
      "[CV]  n_estimators=1000, min_samples_split=2, min_samples_leaf=1, max_features=sqrt, max_depth=None, total=  11.6s\n",
      "[CV] n_estimators=1000, min_samples_split=2, min_samples_leaf=1, max_features=sqrt, max_depth=None \n",
      "[CV]  n_estimators=1000, min_samples_split=2, min_samples_leaf=1, max_features=sqrt, max_depth=None, total=  11.9s\n",
      "[CV] n_estimators=1000, min_samples_split=6, min_samples_leaf=1, max_features=sqrt, max_depth=20 \n",
      "[CV]  n_estimators=1000, min_samples_split=6, min_samples_leaf=1, max_features=sqrt, max_depth=20, total=   7.7s\n",
      "[CV] n_estimators=1000, min_samples_split=6, min_samples_leaf=1, max_features=sqrt, max_depth=20 \n",
      "[CV]  n_estimators=1000, min_samples_split=6, min_samples_leaf=1, max_features=sqrt, max_depth=20, total=   7.6s\n",
      "[CV] n_estimators=1000, min_samples_split=6, min_samples_leaf=1, max_features=sqrt, max_depth=20 \n",
      "[CV]  n_estimators=1000, min_samples_split=6, min_samples_leaf=1, max_features=sqrt, max_depth=20, total=   8.3s\n",
      "[CV] n_estimators=1000, min_samples_split=6, min_samples_leaf=1, max_features=sqrt, max_depth=20 \n",
      "[CV]  n_estimators=1000, min_samples_split=6, min_samples_leaf=1, max_features=sqrt, max_depth=20, total=   7.9s\n",
      "[CV] n_estimators=1000, min_samples_split=6, min_samples_leaf=1, max_features=sqrt, max_depth=20 \n",
      "[CV]  n_estimators=1000, min_samples_split=6, min_samples_leaf=1, max_features=sqrt, max_depth=20, total=   8.0s\n",
      "[CV] n_estimators=200, min_samples_split=4, min_samples_leaf=1, max_features=sqrt, max_depth=5 \n",
      "[CV]  n_estimators=200, min_samples_split=4, min_samples_leaf=1, max_features=sqrt, max_depth=5, total=   0.9s\n",
      "[CV] n_estimators=200, min_samples_split=4, min_samples_leaf=1, max_features=sqrt, max_depth=5 \n",
      "[CV]  n_estimators=200, min_samples_split=4, min_samples_leaf=1, max_features=sqrt, max_depth=5, total=   0.9s\n",
      "[CV] n_estimators=200, min_samples_split=4, min_samples_leaf=1, max_features=sqrt, max_depth=5 \n",
      "[CV]  n_estimators=200, min_samples_split=4, min_samples_leaf=1, max_features=sqrt, max_depth=5, total=   1.0s\n",
      "[CV] n_estimators=200, min_samples_split=4, min_samples_leaf=1, max_features=sqrt, max_depth=5 \n",
      "[CV]  n_estimators=200, min_samples_split=4, min_samples_leaf=1, max_features=sqrt, max_depth=5, total=   1.0s\n",
      "[CV] n_estimators=200, min_samples_split=4, min_samples_leaf=1, max_features=sqrt, max_depth=5 \n",
      "[CV]  n_estimators=200, min_samples_split=4, min_samples_leaf=1, max_features=sqrt, max_depth=5, total=   0.9s\n",
      "[CV] n_estimators=100, min_samples_split=2, min_samples_leaf=4, max_features=auto, max_depth=5 \n",
      "[CV]  n_estimators=100, min_samples_split=2, min_samples_leaf=4, max_features=auto, max_depth=5, total=   0.6s\n",
      "[CV] n_estimators=100, min_samples_split=2, min_samples_leaf=4, max_features=auto, max_depth=5 \n",
      "[CV]  n_estimators=100, min_samples_split=2, min_samples_leaf=4, max_features=auto, max_depth=5, total=   0.9s\n",
      "[CV] n_estimators=100, min_samples_split=2, min_samples_leaf=4, max_features=auto, max_depth=5 \n",
      "[CV]  n_estimators=100, min_samples_split=2, min_samples_leaf=4, max_features=auto, max_depth=5, total=   0.6s\n",
      "[CV] n_estimators=100, min_samples_split=2, min_samples_leaf=4, max_features=auto, max_depth=5 \n",
      "[CV]  n_estimators=100, min_samples_split=2, min_samples_leaf=4, max_features=auto, max_depth=5, total=   0.7s\n",
      "[CV] n_estimators=100, min_samples_split=2, min_samples_leaf=4, max_features=auto, max_depth=5 \n",
      "[CV]  n_estimators=100, min_samples_split=2, min_samples_leaf=4, max_features=auto, max_depth=5, total=   0.7s\n",
      "[CV] n_estimators=500, min_samples_split=2, min_samples_leaf=1, max_features=sqrt, max_depth=20 \n",
      "[CV]  n_estimators=500, min_samples_split=2, min_samples_leaf=1, max_features=sqrt, max_depth=20, total=   5.7s\n",
      "[CV] n_estimators=500, min_samples_split=2, min_samples_leaf=1, max_features=sqrt, max_depth=20 \n",
      "[CV]  n_estimators=500, min_samples_split=2, min_samples_leaf=1, max_features=sqrt, max_depth=20, total=   5.9s\n",
      "[CV] n_estimators=500, min_samples_split=2, min_samples_leaf=1, max_features=sqrt, max_depth=20 \n",
      "[CV]  n_estimators=500, min_samples_split=2, min_samples_leaf=1, max_features=sqrt, max_depth=20, total=   6.5s\n",
      "[CV] n_estimators=500, min_samples_split=2, min_samples_leaf=1, max_features=sqrt, max_depth=20 \n",
      "[CV]  n_estimators=500, min_samples_split=2, min_samples_leaf=1, max_features=sqrt, max_depth=20, total=   5.7s\n",
      "[CV] n_estimators=500, min_samples_split=2, min_samples_leaf=1, max_features=sqrt, max_depth=20 \n",
      "[CV]  n_estimators=500, min_samples_split=2, min_samples_leaf=1, max_features=sqrt, max_depth=20, total=   6.2s\n",
      "[CV] n_estimators=10, min_samples_split=4, min_samples_leaf=2, max_features=sqrt, max_depth=5 \n",
      "[CV]  n_estimators=10, min_samples_split=4, min_samples_leaf=2, max_features=sqrt, max_depth=5, total=   0.1s\n",
      "[CV] n_estimators=10, min_samples_split=4, min_samples_leaf=2, max_features=sqrt, max_depth=5 \n",
      "[CV]  n_estimators=10, min_samples_split=4, min_samples_leaf=2, max_features=sqrt, max_depth=5, total=   0.1s\n",
      "[CV] n_estimators=10, min_samples_split=4, min_samples_leaf=2, max_features=sqrt, max_depth=5 \n",
      "[CV]  n_estimators=10, min_samples_split=4, min_samples_leaf=2, max_features=sqrt, max_depth=5, total=   0.1s\n",
      "[CV] n_estimators=10, min_samples_split=4, min_samples_leaf=2, max_features=sqrt, max_depth=5 \n",
      "[CV]  n_estimators=10, min_samples_split=4, min_samples_leaf=2, max_features=sqrt, max_depth=5, total=   0.1s\n",
      "[CV] n_estimators=10, min_samples_split=4, min_samples_leaf=2, max_features=sqrt, max_depth=5 \n",
      "[CV]  n_estimators=10, min_samples_split=4, min_samples_leaf=2, max_features=sqrt, max_depth=5, total=   0.1s\n",
      "[CV] n_estimators=100, min_samples_split=2, min_samples_leaf=1, max_features=sqrt, max_depth=20 \n",
      "[CV]  n_estimators=100, min_samples_split=2, min_samples_leaf=1, max_features=sqrt, max_depth=20, total=   1.3s\n",
      "[CV] n_estimators=100, min_samples_split=2, min_samples_leaf=1, max_features=sqrt, max_depth=20 \n",
      "[CV]  n_estimators=100, min_samples_split=2, min_samples_leaf=1, max_features=sqrt, max_depth=20, total=   1.8s\n",
      "[CV] n_estimators=100, min_samples_split=2, min_samples_leaf=1, max_features=sqrt, max_depth=20 \n",
      "[CV]  n_estimators=100, min_samples_split=2, min_samples_leaf=1, max_features=sqrt, max_depth=20, total=   1.5s\n",
      "[CV] n_estimators=100, min_samples_split=2, min_samples_leaf=1, max_features=sqrt, max_depth=20 \n",
      "[CV]  n_estimators=100, min_samples_split=2, min_samples_leaf=1, max_features=sqrt, max_depth=20, total=   1.3s\n",
      "[CV] n_estimators=100, min_samples_split=2, min_samples_leaf=1, max_features=sqrt, max_depth=20 \n",
      "[CV]  n_estimators=100, min_samples_split=2, min_samples_leaf=1, max_features=sqrt, max_depth=20, total=   0.9s\n",
      "[CV] n_estimators=1200, min_samples_split=4, min_samples_leaf=1, max_features=auto, max_depth=20 \n",
      "[CV]  n_estimators=1200, min_samples_split=4, min_samples_leaf=1, max_features=auto, max_depth=20, total=  15.6s\n",
      "[CV] n_estimators=1200, min_samples_split=4, min_samples_leaf=1, max_features=auto, max_depth=20 \n",
      "[CV]  n_estimators=1200, min_samples_split=4, min_samples_leaf=1, max_features=auto, max_depth=20, total=  15.9s\n",
      "[CV] n_estimators=1200, min_samples_split=4, min_samples_leaf=1, max_features=auto, max_depth=20 \n",
      "[CV]  n_estimators=1200, min_samples_split=4, min_samples_leaf=1, max_features=auto, max_depth=20, total=  15.6s\n",
      "[CV] n_estimators=1200, min_samples_split=4, min_samples_leaf=1, max_features=auto, max_depth=20 \n",
      "[CV]  n_estimators=1200, min_samples_split=4, min_samples_leaf=1, max_features=auto, max_depth=20, total=  14.5s\n",
      "[CV] n_estimators=1200, min_samples_split=4, min_samples_leaf=1, max_features=auto, max_depth=20 \n",
      "[CV]  n_estimators=1200, min_samples_split=4, min_samples_leaf=1, max_features=auto, max_depth=20, total=  14.2s\n",
      "[CV] n_estimators=200, min_samples_split=6, min_samples_leaf=1, max_features=sqrt, max_depth=10 \n",
      "[CV]  n_estimators=200, min_samples_split=6, min_samples_leaf=1, max_features=sqrt, max_depth=10, total=   1.3s\n",
      "[CV] n_estimators=200, min_samples_split=6, min_samples_leaf=1, max_features=sqrt, max_depth=10 \n",
      "[CV]  n_estimators=200, min_samples_split=6, min_samples_leaf=1, max_features=sqrt, max_depth=10, total=   1.6s\n",
      "[CV] n_estimators=200, min_samples_split=6, min_samples_leaf=1, max_features=sqrt, max_depth=10 \n",
      "[CV]  n_estimators=200, min_samples_split=6, min_samples_leaf=1, max_features=sqrt, max_depth=10, total=   1.9s\n",
      "[CV] n_estimators=200, min_samples_split=6, min_samples_leaf=1, max_features=sqrt, max_depth=10 \n",
      "[CV]  n_estimators=200, min_samples_split=6, min_samples_leaf=1, max_features=sqrt, max_depth=10, total=   1.7s\n",
      "[CV] n_estimators=200, min_samples_split=6, min_samples_leaf=1, max_features=sqrt, max_depth=10 \n",
      "[CV]  n_estimators=200, min_samples_split=6, min_samples_leaf=1, max_features=sqrt, max_depth=10, total=   1.8s\n",
      "[CV] n_estimators=500, min_samples_split=2, min_samples_leaf=1, max_features=auto, max_depth=10 \n",
      "[CV]  n_estimators=500, min_samples_split=2, min_samples_leaf=1, max_features=auto, max_depth=10, total=   5.2s\n",
      "[CV] n_estimators=500, min_samples_split=2, min_samples_leaf=1, max_features=auto, max_depth=10 \n",
      "[CV]  n_estimators=500, min_samples_split=2, min_samples_leaf=1, max_features=auto, max_depth=10, total=   4.8s\n",
      "[CV] n_estimators=500, min_samples_split=2, min_samples_leaf=1, max_features=auto, max_depth=10 \n",
      "[CV]  n_estimators=500, min_samples_split=2, min_samples_leaf=1, max_features=auto, max_depth=10, total=   5.0s\n",
      "[CV] n_estimators=500, min_samples_split=2, min_samples_leaf=1, max_features=auto, max_depth=10 \n",
      "[CV]  n_estimators=500, min_samples_split=2, min_samples_leaf=1, max_features=auto, max_depth=10, total=   4.7s\n",
      "[CV] n_estimators=500, min_samples_split=2, min_samples_leaf=1, max_features=auto, max_depth=10 \n",
      "[CV]  n_estimators=500, min_samples_split=2, min_samples_leaf=1, max_features=auto, max_depth=10, total=   5.5s\n",
      "[CV] n_estimators=500, min_samples_split=4, min_samples_leaf=4, max_features=sqrt, max_depth=20 \n",
      "[CV]  n_estimators=500, min_samples_split=4, min_samples_leaf=4, max_features=sqrt, max_depth=20, total=   3.4s\n",
      "[CV] n_estimators=500, min_samples_split=4, min_samples_leaf=4, max_features=sqrt, max_depth=20 \n",
      "[CV]  n_estimators=500, min_samples_split=4, min_samples_leaf=4, max_features=sqrt, max_depth=20, total=   3.4s\n",
      "[CV] n_estimators=500, min_samples_split=4, min_samples_leaf=4, max_features=sqrt, max_depth=20 \n",
      "[CV]  n_estimators=500, min_samples_split=4, min_samples_leaf=4, max_features=sqrt, max_depth=20, total=   3.4s\n",
      "[CV] n_estimators=500, min_samples_split=4, min_samples_leaf=4, max_features=sqrt, max_depth=20 \n",
      "[CV]  n_estimators=500, min_samples_split=4, min_samples_leaf=4, max_features=sqrt, max_depth=20, total=   3.5s\n",
      "[CV] n_estimators=500, min_samples_split=4, min_samples_leaf=4, max_features=sqrt, max_depth=20 \n",
      "[CV]  n_estimators=500, min_samples_split=4, min_samples_leaf=4, max_features=sqrt, max_depth=20, total=   3.4s\n",
      "[CV] n_estimators=1000, min_samples_split=4, min_samples_leaf=2, max_features=auto, max_depth=30 \n",
      "[CV]  n_estimators=1000, min_samples_split=4, min_samples_leaf=2, max_features=auto, max_depth=30, total=  12.1s\n",
      "[CV] n_estimators=1000, min_samples_split=4, min_samples_leaf=2, max_features=auto, max_depth=30 \n",
      "[CV]  n_estimators=1000, min_samples_split=4, min_samples_leaf=2, max_features=auto, max_depth=30, total=  14.4s\n",
      "[CV] n_estimators=1000, min_samples_split=4, min_samples_leaf=2, max_features=auto, max_depth=30 \n",
      "[CV]  n_estimators=1000, min_samples_split=4, min_samples_leaf=2, max_features=auto, max_depth=30, total=  11.7s\n",
      "[CV] n_estimators=1000, min_samples_split=4, min_samples_leaf=2, max_features=auto, max_depth=30 \n",
      "[CV]  n_estimators=1000, min_samples_split=4, min_samples_leaf=2, max_features=auto, max_depth=30, total=  12.6s\n",
      "[CV] n_estimators=1000, min_samples_split=4, min_samples_leaf=2, max_features=auto, max_depth=30 \n",
      "[CV]  n_estimators=1000, min_samples_split=4, min_samples_leaf=2, max_features=auto, max_depth=30, total=  11.1s\n",
      "[CV] n_estimators=500, min_samples_split=6, min_samples_leaf=2, max_features=sqrt, max_depth=5 \n",
      "[CV]  n_estimators=500, min_samples_split=6, min_samples_leaf=2, max_features=sqrt, max_depth=5, total=   2.5s\n",
      "[CV] n_estimators=500, min_samples_split=6, min_samples_leaf=2, max_features=sqrt, max_depth=5 \n",
      "[CV]  n_estimators=500, min_samples_split=6, min_samples_leaf=2, max_features=sqrt, max_depth=5, total=   2.3s\n",
      "[CV] n_estimators=500, min_samples_split=6, min_samples_leaf=2, max_features=sqrt, max_depth=5 \n",
      "[CV]  n_estimators=500, min_samples_split=6, min_samples_leaf=2, max_features=sqrt, max_depth=5, total=   2.1s\n",
      "[CV] n_estimators=500, min_samples_split=6, min_samples_leaf=2, max_features=sqrt, max_depth=5 \n",
      "[CV]  n_estimators=500, min_samples_split=6, min_samples_leaf=2, max_features=sqrt, max_depth=5, total=   2.3s\n",
      "[CV] n_estimators=500, min_samples_split=6, min_samples_leaf=2, max_features=sqrt, max_depth=5 \n",
      "[CV]  n_estimators=500, min_samples_split=6, min_samples_leaf=2, max_features=sqrt, max_depth=5, total=   2.1s\n",
      "[CV] n_estimators=1000, min_samples_split=2, min_samples_leaf=4, max_features=auto, max_depth=10 \n",
      "[CV]  n_estimators=1000, min_samples_split=2, min_samples_leaf=4, max_features=auto, max_depth=10, total=   9.6s\n",
      "[CV] n_estimators=1000, min_samples_split=2, min_samples_leaf=4, max_features=auto, max_depth=10 \n",
      "[CV]  n_estimators=1000, min_samples_split=2, min_samples_leaf=4, max_features=auto, max_depth=10, total=   9.4s\n",
      "[CV] n_estimators=1000, min_samples_split=2, min_samples_leaf=4, max_features=auto, max_depth=10 \n",
      "[CV]  n_estimators=1000, min_samples_split=2, min_samples_leaf=4, max_features=auto, max_depth=10, total=   9.3s\n",
      "[CV] n_estimators=1000, min_samples_split=2, min_samples_leaf=4, max_features=auto, max_depth=10 \n",
      "[CV]  n_estimators=1000, min_samples_split=2, min_samples_leaf=4, max_features=auto, max_depth=10, total=   9.5s\n",
      "[CV] n_estimators=1000, min_samples_split=2, min_samples_leaf=4, max_features=auto, max_depth=10 \n",
      "[CV]  n_estimators=1000, min_samples_split=2, min_samples_leaf=4, max_features=auto, max_depth=10, total=   9.9s\n",
      "[CV] n_estimators=1200, min_samples_split=2, min_samples_leaf=2, max_features=auto, max_depth=5 \n",
      "[CV]  n_estimators=1200, min_samples_split=2, min_samples_leaf=2, max_features=auto, max_depth=5, total=   7.6s\n",
      "[CV] n_estimators=1200, min_samples_split=2, min_samples_leaf=2, max_features=auto, max_depth=5 \n",
      "[CV]  n_estimators=1200, min_samples_split=2, min_samples_leaf=2, max_features=auto, max_depth=5, total=   7.6s\n",
      "[CV] n_estimators=1200, min_samples_split=2, min_samples_leaf=2, max_features=auto, max_depth=5 \n",
      "[CV]  n_estimators=1200, min_samples_split=2, min_samples_leaf=2, max_features=auto, max_depth=5, total=   7.5s\n",
      "[CV] n_estimators=1200, min_samples_split=2, min_samples_leaf=2, max_features=auto, max_depth=5 \n",
      "[CV]  n_estimators=1200, min_samples_split=2, min_samples_leaf=2, max_features=auto, max_depth=5, total=   7.6s\n",
      "[CV] n_estimators=1200, min_samples_split=2, min_samples_leaf=2, max_features=auto, max_depth=5 \n",
      "[CV]  n_estimators=1200, min_samples_split=2, min_samples_leaf=2, max_features=auto, max_depth=5, total=   7.5s\n",
      "[CV] n_estimators=500, min_samples_split=6, min_samples_leaf=2, max_features=auto, max_depth=30 \n",
      "[CV]  n_estimators=500, min_samples_split=6, min_samples_leaf=2, max_features=auto, max_depth=30, total=   5.5s\n",
      "[CV] n_estimators=500, min_samples_split=6, min_samples_leaf=2, max_features=auto, max_depth=30 \n",
      "[CV]  n_estimators=500, min_samples_split=6, min_samples_leaf=2, max_features=auto, max_depth=30, total=   6.2s\n",
      "[CV] n_estimators=500, min_samples_split=6, min_samples_leaf=2, max_features=auto, max_depth=30 \n",
      "[CV]  n_estimators=500, min_samples_split=6, min_samples_leaf=2, max_features=auto, max_depth=30, total=   5.7s\n",
      "[CV] n_estimators=500, min_samples_split=6, min_samples_leaf=2, max_features=auto, max_depth=30 \n",
      "[CV]  n_estimators=500, min_samples_split=6, min_samples_leaf=2, max_features=auto, max_depth=30, total=   6.1s\n",
      "[CV] n_estimators=500, min_samples_split=6, min_samples_leaf=2, max_features=auto, max_depth=30 \n",
      "[CV]  n_estimators=500, min_samples_split=6, min_samples_leaf=2, max_features=auto, max_depth=30, total=   5.9s\n",
      "[CV] n_estimators=500, min_samples_split=6, min_samples_leaf=4, max_features=auto, max_depth=10 \n",
      "[CV]  n_estimators=500, min_samples_split=6, min_samples_leaf=4, max_features=auto, max_depth=10, total=   4.9s\n",
      "[CV] n_estimators=500, min_samples_split=6, min_samples_leaf=4, max_features=auto, max_depth=10 \n",
      "[CV]  n_estimators=500, min_samples_split=6, min_samples_leaf=4, max_features=auto, max_depth=10, total=   4.6s\n",
      "[CV] n_estimators=500, min_samples_split=6, min_samples_leaf=4, max_features=auto, max_depth=10 \n",
      "[CV]  n_estimators=500, min_samples_split=6, min_samples_leaf=4, max_features=auto, max_depth=10, total=   4.8s\n",
      "[CV] n_estimators=500, min_samples_split=6, min_samples_leaf=4, max_features=auto, max_depth=10 \n",
      "[CV]  n_estimators=500, min_samples_split=6, min_samples_leaf=4, max_features=auto, max_depth=10, total=   4.6s\n",
      "[CV] n_estimators=500, min_samples_split=6, min_samples_leaf=4, max_features=auto, max_depth=10 \n",
      "[CV]  n_estimators=500, min_samples_split=6, min_samples_leaf=4, max_features=auto, max_depth=10, total=   4.5s\n",
      "[CV] n_estimators=10, min_samples_split=2, min_samples_leaf=2, max_features=auto, max_depth=5 \n",
      "[CV]  n_estimators=10, min_samples_split=2, min_samples_leaf=2, max_features=auto, max_depth=5, total=   0.0s\n",
      "[CV] n_estimators=10, min_samples_split=2, min_samples_leaf=2, max_features=auto, max_depth=5 \n",
      "[CV]  n_estimators=10, min_samples_split=2, min_samples_leaf=2, max_features=auto, max_depth=5, total=   0.1s\n",
      "[CV] n_estimators=10, min_samples_split=2, min_samples_leaf=2, max_features=auto, max_depth=5 \n",
      "[CV]  n_estimators=10, min_samples_split=2, min_samples_leaf=2, max_features=auto, max_depth=5, total=   0.1s\n",
      "[CV] n_estimators=10, min_samples_split=2, min_samples_leaf=2, max_features=auto, max_depth=5 \n",
      "[CV]  n_estimators=10, min_samples_split=2, min_samples_leaf=2, max_features=auto, max_depth=5, total=   0.1s\n",
      "[CV] n_estimators=10, min_samples_split=2, min_samples_leaf=2, max_features=auto, max_depth=5 \n",
      "[CV]  n_estimators=10, min_samples_split=2, min_samples_leaf=2, max_features=auto, max_depth=5, total=   0.1s\n",
      "[CV] n_estimators=1000, min_samples_split=2, min_samples_leaf=1, max_features=sqrt, max_depth=30 \n",
      "[CV]  n_estimators=1000, min_samples_split=2, min_samples_leaf=1, max_features=sqrt, max_depth=30, total=  13.6s\n",
      "[CV] n_estimators=1000, min_samples_split=2, min_samples_leaf=1, max_features=sqrt, max_depth=30 \n",
      "[CV]  n_estimators=1000, min_samples_split=2, min_samples_leaf=1, max_features=sqrt, max_depth=30, total=  11.2s\n",
      "[CV] n_estimators=1000, min_samples_split=2, min_samples_leaf=1, max_features=sqrt, max_depth=30 \n",
      "[CV]  n_estimators=1000, min_samples_split=2, min_samples_leaf=1, max_features=sqrt, max_depth=30, total=  13.4s\n",
      "[CV] n_estimators=1000, min_samples_split=2, min_samples_leaf=1, max_features=sqrt, max_depth=30 \n",
      "[CV]  n_estimators=1000, min_samples_split=2, min_samples_leaf=1, max_features=sqrt, max_depth=30, total=  11.7s\n",
      "[CV] n_estimators=1000, min_samples_split=2, min_samples_leaf=1, max_features=sqrt, max_depth=30 \n",
      "[CV]  n_estimators=1000, min_samples_split=2, min_samples_leaf=1, max_features=sqrt, max_depth=30, total=  11.5s\n",
      "[CV] n_estimators=10, min_samples_split=4, min_samples_leaf=4, max_features=auto, max_depth=30 \n",
      "[CV]  n_estimators=10, min_samples_split=4, min_samples_leaf=4, max_features=auto, max_depth=30, total=   0.1s\n",
      "[CV] n_estimators=10, min_samples_split=4, min_samples_leaf=4, max_features=auto, max_depth=30 \n",
      "[CV]  n_estimators=10, min_samples_split=4, min_samples_leaf=4, max_features=auto, max_depth=30, total=   0.1s\n",
      "[CV] n_estimators=10, min_samples_split=4, min_samples_leaf=4, max_features=auto, max_depth=30 \n",
      "[CV]  n_estimators=10, min_samples_split=4, min_samples_leaf=4, max_features=auto, max_depth=30, total=   0.1s\n",
      "[CV] n_estimators=10, min_samples_split=4, min_samples_leaf=4, max_features=auto, max_depth=30 \n",
      "[CV]  n_estimators=10, min_samples_split=4, min_samples_leaf=4, max_features=auto, max_depth=30, total=   0.1s\n",
      "[CV] n_estimators=10, min_samples_split=4, min_samples_leaf=4, max_features=auto, max_depth=30 \n",
      "[CV]  n_estimators=10, min_samples_split=4, min_samples_leaf=4, max_features=auto, max_depth=30, total=   0.1s\n",
      "[CV] n_estimators=10, min_samples_split=6, min_samples_leaf=1, max_features=sqrt, max_depth=None \n",
      "[CV]  n_estimators=10, min_samples_split=6, min_samples_leaf=1, max_features=sqrt, max_depth=None, total=   0.1s\n",
      "[CV] n_estimators=10, min_samples_split=6, min_samples_leaf=1, max_features=sqrt, max_depth=None \n",
      "[CV]  n_estimators=10, min_samples_split=6, min_samples_leaf=1, max_features=sqrt, max_depth=None, total=   0.1s\n",
      "[CV] n_estimators=10, min_samples_split=6, min_samples_leaf=1, max_features=sqrt, max_depth=None \n",
      "[CV]  n_estimators=10, min_samples_split=6, min_samples_leaf=1, max_features=sqrt, max_depth=None, total=   0.1s\n",
      "[CV] n_estimators=10, min_samples_split=6, min_samples_leaf=1, max_features=sqrt, max_depth=None \n",
      "[CV]  n_estimators=10, min_samples_split=6, min_samples_leaf=1, max_features=sqrt, max_depth=None, total=   0.1s\n",
      "[CV] n_estimators=10, min_samples_split=6, min_samples_leaf=1, max_features=sqrt, max_depth=None \n",
      "[CV]  n_estimators=10, min_samples_split=6, min_samples_leaf=1, max_features=sqrt, max_depth=None, total=   0.1s\n",
      "[CV] n_estimators=200, min_samples_split=2, min_samples_leaf=1, max_features=sqrt, max_depth=None \n",
      "[CV]  n_estimators=200, min_samples_split=2, min_samples_leaf=1, max_features=sqrt, max_depth=None, total=   2.3s\n",
      "[CV] n_estimators=200, min_samples_split=2, min_samples_leaf=1, max_features=sqrt, max_depth=None \n",
      "[CV]  n_estimators=200, min_samples_split=2, min_samples_leaf=1, max_features=sqrt, max_depth=None, total=   2.2s\n",
      "[CV] n_estimators=200, min_samples_split=2, min_samples_leaf=1, max_features=sqrt, max_depth=None \n",
      "[CV]  n_estimators=200, min_samples_split=2, min_samples_leaf=1, max_features=sqrt, max_depth=None, total=   2.4s\n",
      "[CV] n_estimators=200, min_samples_split=2, min_samples_leaf=1, max_features=sqrt, max_depth=None \n",
      "[CV]  n_estimators=200, min_samples_split=2, min_samples_leaf=1, max_features=sqrt, max_depth=None, total=   2.7s\n",
      "[CV] n_estimators=200, min_samples_split=2, min_samples_leaf=1, max_features=sqrt, max_depth=None \n",
      "[CV]  n_estimators=200, min_samples_split=2, min_samples_leaf=1, max_features=sqrt, max_depth=None, total=   3.1s\n",
      "[CV] n_estimators=1200, min_samples_split=2, min_samples_leaf=2, max_features=sqrt, max_depth=10 \n",
      "[CV]  n_estimators=1200, min_samples_split=2, min_samples_leaf=2, max_features=sqrt, max_depth=10, total=  12.1s\n",
      "[CV] n_estimators=1200, min_samples_split=2, min_samples_leaf=2, max_features=sqrt, max_depth=10 \n",
      "[CV]  n_estimators=1200, min_samples_split=2, min_samples_leaf=2, max_features=sqrt, max_depth=10, total=  12.1s\n",
      "[CV] n_estimators=1200, min_samples_split=2, min_samples_leaf=2, max_features=sqrt, max_depth=10 \n",
      "[CV]  n_estimators=1200, min_samples_split=2, min_samples_leaf=2, max_features=sqrt, max_depth=10, total=   8.5s\n",
      "[CV] n_estimators=1200, min_samples_split=2, min_samples_leaf=2, max_features=sqrt, max_depth=10 \n",
      "[CV]  n_estimators=1200, min_samples_split=2, min_samples_leaf=2, max_features=sqrt, max_depth=10, total=   8.4s\n",
      "[CV] n_estimators=1200, min_samples_split=2, min_samples_leaf=2, max_features=sqrt, max_depth=10 \n",
      "[CV]  n_estimators=1200, min_samples_split=2, min_samples_leaf=2, max_features=sqrt, max_depth=10, total=   8.4s\n",
      "[CV] n_estimators=1200, min_samples_split=6, min_samples_leaf=2, max_features=auto, max_depth=5 \n",
      "[CV]  n_estimators=1200, min_samples_split=6, min_samples_leaf=2, max_features=auto, max_depth=5, total=   7.6s\n",
      "[CV] n_estimators=1200, min_samples_split=6, min_samples_leaf=2, max_features=auto, max_depth=5 \n",
      "[CV]  n_estimators=1200, min_samples_split=6, min_samples_leaf=2, max_features=auto, max_depth=5, total=   8.0s\n",
      "[CV] n_estimators=1200, min_samples_split=6, min_samples_leaf=2, max_features=auto, max_depth=5 \n",
      "[CV]  n_estimators=1200, min_samples_split=6, min_samples_leaf=2, max_features=auto, max_depth=5, total=   8.2s\n",
      "[CV] n_estimators=1200, min_samples_split=6, min_samples_leaf=2, max_features=auto, max_depth=5 \n",
      "[CV]  n_estimators=1200, min_samples_split=6, min_samples_leaf=2, max_features=auto, max_depth=5, total=   9.6s\n",
      "[CV] n_estimators=1200, min_samples_split=6, min_samples_leaf=2, max_features=auto, max_depth=5 \n",
      "[CV]  n_estimators=1200, min_samples_split=6, min_samples_leaf=2, max_features=auto, max_depth=5, total=   9.1s\n",
      "[CV] n_estimators=500, min_samples_split=6, min_samples_leaf=4, max_features=sqrt, max_depth=None \n",
      "[CV]  n_estimators=500, min_samples_split=6, min_samples_leaf=4, max_features=sqrt, max_depth=None, total=   4.3s\n",
      "[CV] n_estimators=500, min_samples_split=6, min_samples_leaf=4, max_features=sqrt, max_depth=None \n",
      "[CV]  n_estimators=500, min_samples_split=6, min_samples_leaf=4, max_features=sqrt, max_depth=None, total=   4.2s\n",
      "[CV] n_estimators=500, min_samples_split=6, min_samples_leaf=4, max_features=sqrt, max_depth=None \n",
      "[CV]  n_estimators=500, min_samples_split=6, min_samples_leaf=4, max_features=sqrt, max_depth=None, total=   3.9s\n",
      "[CV] n_estimators=500, min_samples_split=6, min_samples_leaf=4, max_features=sqrt, max_depth=None \n",
      "[CV]  n_estimators=500, min_samples_split=6, min_samples_leaf=4, max_features=sqrt, max_depth=None, total=   3.7s\n",
      "[CV] n_estimators=500, min_samples_split=6, min_samples_leaf=4, max_features=sqrt, max_depth=None \n",
      "[CV]  n_estimators=500, min_samples_split=6, min_samples_leaf=4, max_features=sqrt, max_depth=None, total=   3.7s\n",
      "[CV] n_estimators=1000, min_samples_split=4, min_samples_leaf=1, max_features=sqrt, max_depth=10 \n",
      "[CV]  n_estimators=1000, min_samples_split=4, min_samples_leaf=1, max_features=sqrt, max_depth=10, total=   7.3s\n",
      "[CV] n_estimators=1000, min_samples_split=4, min_samples_leaf=1, max_features=sqrt, max_depth=10 \n",
      "[CV]  n_estimators=1000, min_samples_split=4, min_samples_leaf=1, max_features=sqrt, max_depth=10, total=   7.0s\n",
      "[CV] n_estimators=1000, min_samples_split=4, min_samples_leaf=1, max_features=sqrt, max_depth=10 \n",
      "[CV]  n_estimators=1000, min_samples_split=4, min_samples_leaf=1, max_features=sqrt, max_depth=10, total=   7.2s\n",
      "[CV] n_estimators=1000, min_samples_split=4, min_samples_leaf=1, max_features=sqrt, max_depth=10 \n",
      "[CV]  n_estimators=1000, min_samples_split=4, min_samples_leaf=1, max_features=sqrt, max_depth=10, total=   8.2s\n",
      "[CV] n_estimators=1000, min_samples_split=4, min_samples_leaf=1, max_features=sqrt, max_depth=10 \n",
      "[CV]  n_estimators=1000, min_samples_split=4, min_samples_leaf=1, max_features=sqrt, max_depth=10, total=   6.7s\n",
      "[CV] n_estimators=200, min_samples_split=6, min_samples_leaf=4, max_features=sqrt, max_depth=10 \n",
      "[CV]  n_estimators=200, min_samples_split=6, min_samples_leaf=4, max_features=sqrt, max_depth=10, total=   1.5s\n",
      "[CV] n_estimators=200, min_samples_split=6, min_samples_leaf=4, max_features=sqrt, max_depth=10 \n",
      "[CV]  n_estimators=200, min_samples_split=6, min_samples_leaf=4, max_features=sqrt, max_depth=10, total=   1.8s\n",
      "[CV] n_estimators=200, min_samples_split=6, min_samples_leaf=4, max_features=sqrt, max_depth=10 \n",
      "[CV]  n_estimators=200, min_samples_split=6, min_samples_leaf=4, max_features=sqrt, max_depth=10, total=   1.7s\n",
      "[CV] n_estimators=200, min_samples_split=6, min_samples_leaf=4, max_features=sqrt, max_depth=10 \n",
      "[CV]  n_estimators=200, min_samples_split=6, min_samples_leaf=4, max_features=sqrt, max_depth=10, total=   1.7s\n",
      "[CV] n_estimators=200, min_samples_split=6, min_samples_leaf=4, max_features=sqrt, max_depth=10 \n",
      "[CV]  n_estimators=200, min_samples_split=6, min_samples_leaf=4, max_features=sqrt, max_depth=10, total=   1.3s\n",
      "[CV] n_estimators=10, min_samples_split=2, min_samples_leaf=1, max_features=auto, max_depth=20 \n",
      "[CV]  n_estimators=10, min_samples_split=2, min_samples_leaf=1, max_features=auto, max_depth=20, total=   0.1s\n",
      "[CV] n_estimators=10, min_samples_split=2, min_samples_leaf=1, max_features=auto, max_depth=20 \n",
      "[CV]  n_estimators=10, min_samples_split=2, min_samples_leaf=1, max_features=auto, max_depth=20, total=   0.2s\n",
      "[CV] n_estimators=10, min_samples_split=2, min_samples_leaf=1, max_features=auto, max_depth=20 \n",
      "[CV]  n_estimators=10, min_samples_split=2, min_samples_leaf=1, max_features=auto, max_depth=20, total=   0.1s\n",
      "[CV] n_estimators=10, min_samples_split=2, min_samples_leaf=1, max_features=auto, max_depth=20 \n",
      "[CV]  n_estimators=10, min_samples_split=2, min_samples_leaf=1, max_features=auto, max_depth=20, total=   0.1s\n",
      "[CV] n_estimators=10, min_samples_split=2, min_samples_leaf=1, max_features=auto, max_depth=20 \n",
      "[CV]  n_estimators=10, min_samples_split=2, min_samples_leaf=1, max_features=auto, max_depth=20, total=   0.1s\n"
     ]
    },
    {
     "name": "stderr",
     "output_type": "stream",
     "text": [
      "[Parallel(n_jobs=1)]: Done 150 out of 150 | elapsed: 12.1min finished\n"
     ]
    },
    {
     "data": {
      "text/plain": [
       "RandomizedSearchCV(cv=5, estimator=RandomForestRegressor(), n_iter=30,\n",
       "                   param_distributions={'max_depth': [None, 5, 10, 20, 30],\n",
       "                                        'max_features': ['auto', 'sqrt'],\n",
       "                                        'min_samples_leaf': [1, 2, 4],\n",
       "                                        'min_samples_split': [2, 4, 6],\n",
       "                                        'n_estimators': [10, 100, 200, 500,\n",
       "                                                         1000, 1200]},\n",
       "                   verbose=2)"
      ]
     },
     "execution_count": 100,
     "metadata": {},
     "output_type": "execute_result"
    }
   ],
   "source": [
    "rs_rfr = RandomizedSearchCV(estimator=rfr,\n",
    "                           param_distributions=grid,\n",
    "                           n_iter=30,\n",
    "                           cv=5,\n",
    "                           verbose=2)\n",
    "\n",
    "rs_rfr.fit(X_train_1,y_train_1)"
   ]
  },
  {
   "cell_type": "code",
   "execution_count": 106,
   "metadata": {},
   "outputs": [
    {
     "data": {
      "text/plain": [
       "{'n_estimators': 10,\n",
       " 'min_samples_split': 2,\n",
       " 'min_samples_leaf': 1,\n",
       " 'max_features': 'auto',\n",
       " 'max_depth': 20}"
      ]
     },
     "execution_count": 106,
     "metadata": {},
     "output_type": "execute_result"
    }
   ],
   "source": [
    "rs_rfr.best_params_"
   ]
  },
  {
   "cell_type": "code",
   "execution_count": 107,
   "metadata": {},
   "outputs": [
    {
     "data": {
      "text/plain": [
       "0.9999672570416167"
      ]
     },
     "execution_count": 107,
     "metadata": {},
     "output_type": "execute_result"
    }
   ],
   "source": [
    "rs_rfr.score(X_test_1,y_test_1)"
   ]
  },
  {
   "cell_type": "code",
   "execution_count": 108,
   "metadata": {},
   "outputs": [],
   "source": [
    "rs_rfr_y_preds_valid = rs_rfr.predict(X_val)\n",
    "rs_rfr_y_preds_test = rs_rfr.predict(X_test_1)"
   ]
  },
  {
   "cell_type": "code",
   "execution_count": 109,
   "metadata": {},
   "outputs": [
    {
     "name": "stdout",
     "output_type": "stream",
     "text": [
      "MAE: 1.2411997990200407\n",
      "MSE: 11.972353887793254\n"
     ]
    }
   ],
   "source": [
    "model_metrics(y_test_1,rs_rfr_y_preds_test)"
   ]
  },
  {
   "cell_type": "code",
   "execution_count": 112,
   "metadata": {},
   "outputs": [
    {
     "name": "stdout",
     "output_type": "stream",
     "text": [
      "MAE: 1.069901750239763\n",
      "MSE: 7.764950496230007\n"
     ]
    }
   ],
   "source": [
    "model_metrics(y_val,rs_rfr_y_preds_valid)"
   ]
  },
  {
   "cell_type": "code",
   "execution_count": 116,
   "metadata": {},
   "outputs": [],
   "source": [
    "from sklearn.model_selection import learning_curve\n",
    "from sklearn.model_selection import ShuffleSplit"
   ]
  },
  {
   "cell_type": "code",
   "execution_count": 122,
   "metadata": {},
   "outputs": [],
   "source": [
    "def plot_learning_curve(estimator, title, X, y, axes=None, ylim=None, cv=None,\n",
    "                        n_jobs=None, train_sizes=np.linspace(.1, 1.0, 5)):\n",
    "    \"\"\"\n",
    "    Generate 3 plots: the test and training learning curve, the training\n",
    "    samples vs fit times curve, the fit times vs score curve.\n",
    "\n",
    "    Parameters\n",
    "    ----------\n",
    "    estimator : estimator instance\n",
    "        An estimator instance implementing `fit` and `predict` methods which\n",
    "        will be cloned for each validation.\n",
    "\n",
    "    title : str\n",
    "        Title for the chart.\n",
    "\n",
    "    X : array-like of shape (n_samples, n_features)\n",
    "        Training vector, where ``n_samples`` is the number of samples and\n",
    "        ``n_features`` is the number of features.\n",
    "\n",
    "    y : array-like of shape (n_samples) or (n_samples, n_features)\n",
    "        Target relative to ``X`` for classification or regression;\n",
    "        None for unsupervised learning.\n",
    "\n",
    "    axes : array-like of shape (3,), default=None\n",
    "        Axes to use for plotting the curves.\n",
    "\n",
    "    ylim : tuple of shape (2,), default=None\n",
    "        Defines minimum and maximum y-values plotted, e.g. (ymin, ymax).\n",
    "\n",
    "    cv : int, cross-validation generator or an iterable, default=None\n",
    "        Determines the cross-validation splitting strategy.\n",
    "        Possible inputs for cv are:\n",
    "\n",
    "          - None, to use the default 5-fold cross-validation,\n",
    "          - integer, to specify the number of folds.\n",
    "          - :term:`CV splitter`,\n",
    "          - An iterable yielding (train, test) splits as arrays of indices.\n",
    "\n",
    "        For integer/None inputs, if ``y`` is binary or multiclass,\n",
    "        :class:`StratifiedKFold` used. If the estimator is not a classifier\n",
    "        or if ``y`` is neither binary nor multiclass, :class:`KFold` is used.\n",
    "\n",
    "        Refer :ref:`User Guide <cross_validation>` for the various\n",
    "        cross-validators that can be used here.\n",
    "\n",
    "    n_jobs : int or None, default=None\n",
    "        Number of jobs to run in parallel.\n",
    "        ``None`` means 1 unless in a :obj:`joblib.parallel_backend` context.\n",
    "        ``-1`` means using all processors. See :term:`Glossary <n_jobs>`\n",
    "        for more details.\n",
    "\n",
    "    train_sizes : array-like of shape (n_ticks,)\n",
    "        Relative or absolute numbers of training examples that will be used to\n",
    "        generate the learning curve. If the ``dtype`` is float, it is regarded\n",
    "        as a fraction of the maximum size of the training set (that is\n",
    "        determined by the selected validation method), i.e. it has to be within\n",
    "        (0, 1]. Otherwise it is interpreted as absolute sizes of the training\n",
    "        sets. Note that for classification the number of samples usually have\n",
    "        to be big enough to contain at least one sample from each class.\n",
    "        (default: np.linspace(0.1, 1.0, 5))\n",
    "    \"\"\"\n",
    "    if axes is None:\n",
    "        _, axes = plt.subplots(1, 3, figsize=(20, 5))\n",
    "\n",
    "    axes[0].set_title(title)\n",
    "    if ylim is not None:\n",
    "        axes[0].set_ylim(*ylim)\n",
    "    axes[0].set_xlabel(\"Training examples\")\n",
    "    axes[0].set_ylabel(\"Score\")\n",
    "\n",
    "    train_sizes, train_scores, test_scores, fit_times, _ = \\\n",
    "        learning_curve(estimator, X, y, cv=cv, n_jobs=n_jobs,\n",
    "                       train_sizes=train_sizes,\n",
    "                       return_times=True)\n",
    "    train_scores_mean = np.mean(train_scores, axis=1)\n",
    "    train_scores_std = np.std(train_scores, axis=1)\n",
    "    test_scores_mean = np.mean(test_scores, axis=1)\n",
    "    test_scores_std = np.std(test_scores, axis=1)\n",
    "    fit_times_mean = np.mean(fit_times, axis=1)\n",
    "    fit_times_std = np.std(fit_times, axis=1)\n",
    "\n",
    "    # Plot learning curve\n",
    "    axes[0].grid()\n",
    "    axes[0].fill_between(train_sizes, train_scores_mean - train_scores_std,\n",
    "                         train_scores_mean + train_scores_std, alpha=0.1,\n",
    "                         color=\"r\")\n",
    "    axes[0].fill_between(train_sizes, test_scores_mean - test_scores_std,\n",
    "                         test_scores_mean + test_scores_std, alpha=0.1,\n",
    "                         color=\"g\")\n",
    "    axes[0].plot(train_sizes, train_scores_mean, 'o-', color=\"r\",\n",
    "                 label=\"Training score\")\n",
    "    axes[0].plot(train_sizes, test_scores_mean, 'o-', color=\"g\",\n",
    "                 label=\"Cross-validation score\")\n",
    "    axes[0].legend(loc=\"best\")\n",
    "    \n",
    "    \n",
    "\n",
    "    # Plot n_samples vs fit_times\n",
    "    axes[1].grid()\n",
    "    axes[1].plot(train_sizes, fit_times_mean, 'o-')\n",
    "    axes[1].fill_between(train_sizes, fit_times_mean - fit_times_std,\n",
    "                         fit_times_mean + fit_times_std, alpha=0.1)\n",
    "    axes[1].set_xlabel(\"Training examples\")\n",
    "    axes[1].set_ylabel(\"fit_times\")\n",
    "    axes[1].set_title(\"Scalability of the model\")\n",
    "\n",
    "    # Plot fit_time vs score\n",
    "    axes[2].grid()\n",
    "    axes[2].plot(fit_times_mean, test_scores_mean, 'o-')\n",
    "    axes[2].fill_between(fit_times_mean, test_scores_mean - test_scores_std,\n",
    "                         test_scores_mean + test_scores_std, alpha=0.1)\n",
    "    axes[2].set_xlabel(\"fit_times\")\n",
    "    axes[2].set_ylabel(\"Score\")\n",
    "    axes[2].set_title(\"Performance of the model\")\n",
    "\n",
    "    return plt"
   ]
  },
  {
   "cell_type": "code",
   "execution_count": 117,
   "metadata": {},
   "outputs": [
    {
     "data": {
      "text/plain": [
       "<module 'matplotlib.pyplot' from 'C:\\\\Users\\\\Toni\\\\anaconda3\\\\lib\\\\site-packages\\\\matplotlib\\\\pyplot.py'>"
      ]
     },
     "execution_count": 117,
     "metadata": {},
     "output_type": "execute_result"
    },
    {
     "data": {
      "image/png": "[encoded data removed]",
      "text/plain": [
       "<Figure size 1440x360 with 3 Axes>"
      ]
     },
     "metadata": {
      "needs_background": "light"
     },
     "output_type": "display_data"
    }
   ],
   "source": [
    "plot_learning_curve(estimator=rfr,title='X Train, Y Train',X=X_train_1,y=y_train_1)"
   ]
  },
  {
   "cell_type": "code",
   "execution_count": 124,
   "metadata": {},
   "outputs": [
    {
     "data": {
      "text/plain": [
       "<module 'matplotlib.pyplot' from 'C:\\\\Users\\\\Toni\\\\anaconda3\\\\lib\\\\site-packages\\\\matplotlib\\\\pyplot.py'>"
      ]
     },
     "execution_count": 124,
     "metadata": {},
     "output_type": "execute_result"
    },
    {
     "data": {
      "image/png": "[encoded data removed]",
      "text/plain": [
       "<Figure size 1440x360 with 3 Axes>"
      ]
     },
     "metadata": {
      "needs_background": "light"
     },
     "output_type": "display_data"
    }
   ],
   "source": [
    "plot_learning_curve(estimator=rfr,title='FullData',X=X_val,y=y_val)"
   ]
  },
  {
   "cell_type": "code",
   "execution_count": 125,
   "metadata": {},
   "outputs": [
    {
     "data": {
      "text/plain": [
       "<module 'matplotlib.pyplot' from 'C:\\\\Users\\\\Toni\\\\anaconda3\\\\lib\\\\site-packages\\\\matplotlib\\\\pyplot.py'>"
      ]
     },
     "execution_count": 125,
     "metadata": {},
     "output_type": "execute_result"
    },
    {
     "data": {
      "image/png": "[encoded data removed]",
      "text/plain": [
       "<Figure size 1440x360 with 3 Axes>"
      ]
     },
     "metadata": {
      "needs_background": "light"
     },
     "output_type": "display_data"
    }
   ],
   "source": [
    "plot_learning_curve(estimator=rfr,title='FullData',X=X_test_1,y=y_test_1)"
   ]
  },
  {
   "cell_type": "code",
   "execution_count": 126,
   "metadata": {},
   "outputs": [
    {
     "data": {
      "text/plain": [
       "<module 'matplotlib.pyplot' from 'C:\\\\Users\\\\Toni\\\\anaconda3\\\\lib\\\\site-packages\\\\matplotlib\\\\pyplot.py'>"
      ]
     },
     "execution_count": 126,
     "metadata": {},
     "output_type": "execute_result"
    },
    {
     "data": {
      "image/png": "[encoded data removed]",
      "text/plain": [
       "<Figure size 1440x360 with 3 Axes>"
      ]
     },
     "metadata": {
      "needs_background": "light"
     },
     "output_type": "display_data"
    }
   ],
   "source": [
    "plot_learning_curve(estimator=svr,title='FullData',X=X_test_1,y=y_test_1)"
   ]
  },
  {
   "cell_type": "code",
   "execution_count": 127,
   "metadata": {},
   "outputs": [
    {
     "data": {
      "text/plain": [
       "<module 'matplotlib.pyplot' from 'C:\\\\Users\\\\Toni\\\\anaconda3\\\\lib\\\\site-packages\\\\matplotlib\\\\pyplot.py'>"
      ]
     },
     "execution_count": 127,
     "metadata": {},
     "output_type": "execute_result"
    },
    {
     "data": {
      "image/png": "[encoded data removed]",
      "text/plain": [
       "<Figure size 1440x360 with 3 Axes>"
      ]
     },
     "metadata": {
      "needs_background": "light"
     },
     "output_type": "display_data"
    }
   ],
   "source": [
    "plot_learning_curve(estimator=svr,title='FullData',X=X_val,y=y_val)"
   ]
  },
  {
   "cell_type": "code",
   "execution_count": 130,
   "metadata": {},
   "outputs": [
    {
     "data": {
      "text/plain": [
       "<bound method DataFrame.corr of      Category Region  Year   Value\n",
       "0       Total  TOTAL  1990  6371.0\n",
       "1       Total  TOTAL  1991  6367.6\n",
       "2       Total  TOTAL  1992  6368.2\n",
       "3       Total  TOTAL  1993  6366.9\n",
       "4       Total  TOTAL  1994  6369.0\n",
       "...       ...    ...   ...     ...\n",
       "8106   Others  Timis  2015     1.9\n",
       "8107   Others  Timis  2016     1.9\n",
       "8108   Others  Timis  2017     1.9\n",
       "8109   Others  Timis  2018     1.9\n",
       "8110   Others  Timis  2019     2.0\n",
       "\n",
       "[8111 rows x 4 columns]>"
      ]
     },
     "execution_count": 130,
     "metadata": {},
     "output_type": "execute_result"
    }
   ],
   "source": [
    "df.corr"
   ]
  },
  {
   "cell_type": "code",
   "execution_count": 131,
   "metadata": {},
   "outputs": [],
   "source": [
    "import seaborn as sns"
   ]
  },
  {
   "cell_type": "code",
   "execution_count": 134,
   "metadata": {},
   "outputs": [],
   "source": [
    "xcor=pd.DataFrame(X_transformed_le)\n",
    "xcor=xcor.corr()"
   ]
  },
  {
   "cell_type": "code",
   "execution_count": 139,
   "metadata": {},
   "outputs": [
    {
     "ename": "TypeError",
     "evalue": "corr() missing 1 required positional argument: 'other'",
     "output_type": "error",
     "traceback": [
      "\u001b[1;31m---------------------------------------------------------------------------\u001b[0m",
      "\u001b[1;31mTypeError\u001b[0m                                 Traceback (most recent call last)",
      "\u001b[1;32m<ipython-input-139-a242a060ea21>\u001b[0m in \u001b[0;36m<module>\u001b[1;34m\u001b[0m\n\u001b[1;32m----> 1\u001b[1;33m \u001b[0mdf\u001b[0m\u001b[1;33m[\u001b[0m\u001b[1;34m\"Value\"\u001b[0m\u001b[1;33m]\u001b[0m\u001b[1;33m.\u001b[0m\u001b[0mcorr\u001b[0m\u001b[1;33m(\u001b[0m\u001b[1;33m)\u001b[0m\u001b[1;33m\u001b[0m\u001b[1;33m\u001b[0m\u001b[0m\n\u001b[0m",
      "\u001b[1;31mTypeError\u001b[0m: corr() missing 1 required positional argument: 'other'"
     ]
    }
   ],
   "source": [
    "df[\"Value\"].corr()"
   ]
  },
  {
   "cell_type": "code",
   "execution_count": 135,
   "metadata": {},
   "outputs": [
    {
     "data": {
      "text/plain": [
       "<AxesSubplot:>"
      ]
     },
     "execution_count": 135,
     "metadata": {},
     "output_type": "execute_result"
    },
    {
     "data": {
      "image/png": "[encoded data removed]",
      "text/plain": [
       "<Figure size 432x288 with 2 Axes>"
      ]
     },
     "metadata": {
      "needs_background": "light"
     },
     "output_type": "display_data"
    }
   ],
   "source": [
    "sns.heatmap(xcor,annot=True,cmap=plt.cm.CMRmap_r)"
   ]
  },
  {
   "cell_type": "code",
   "execution_count": 141,
   "metadata": {},
   "outputs": [
    {
     "data": {
      "text/plain": [
       "Year         74.902830\n",
       "Value    486178.126658\n",
       "dtype: float64"
      ]
     },
     "execution_count": 141,
     "metadata": {},
     "output_type": "execute_result"
    }
   ],
   "source": [
    "df.var()"
   ]
  },
  {
   "cell_type": "code",
   "execution_count": 143,
   "metadata": {},
   "outputs": [
    {
     "data": {
      "text/html": [
       "<div>\n",
       "<style scoped>\n",
       "    .dataframe tbody tr th:only-of-type {\n",
       "        vertical-align: middle;\n",
       "    }\n",
       "\n",
       "    .dataframe tbody tr th {\n",
       "        vertical-align: top;\n",
       "    }\n",
       "\n",
       "    .dataframe thead th {\n",
       "        text-align: right;\n",
       "    }\n",
       "</style>\n",
       "<table border=\"1\" class=\"dataframe\">\n",
       "  <thead>\n",
       "    <tr style=\"text-align: right;\">\n",
       "      <th></th>\n",
       "      <th>0</th>\n",
       "      <th>1</th>\n",
       "      <th>2</th>\n",
       "    </tr>\n",
       "  </thead>\n",
       "  <tbody>\n",
       "    <tr>\n",
       "      <th>0</th>\n",
       "      <td>-0.206991</td>\n",
       "      <td>-0.001215</td>\n",
       "      <td>-0.755854</td>\n",
       "    </tr>\n",
       "    <tr>\n",
       "      <th>1</th>\n",
       "      <td>-1.027230</td>\n",
       "      <td>0.702560</td>\n",
       "      <td>-0.293646</td>\n",
       "    </tr>\n",
       "    <tr>\n",
       "      <th>2</th>\n",
       "      <td>-0.143896</td>\n",
       "      <td>1.406335</td>\n",
       "      <td>-1.102510</td>\n",
       "    </tr>\n",
       "    <tr>\n",
       "      <th>3</th>\n",
       "      <td>1.370392</td>\n",
       "      <td>-0.704989</td>\n",
       "      <td>0.168563</td>\n",
       "    </tr>\n",
       "    <tr>\n",
       "      <th>4</th>\n",
       "      <td>0.234676</td>\n",
       "      <td>1.406335</td>\n",
       "      <td>-0.524750</td>\n",
       "    </tr>\n",
       "    <tr>\n",
       "      <th>...</th>\n",
       "      <td>...</td>\n",
       "      <td>...</td>\n",
       "      <td>...</td>\n",
       "    </tr>\n",
       "    <tr>\n",
       "      <th>4861</th>\n",
       "      <td>-1.090326</td>\n",
       "      <td>-0.001215</td>\n",
       "      <td>0.630771</td>\n",
       "    </tr>\n",
       "    <tr>\n",
       "      <th>4862</th>\n",
       "      <td>-1.090326</td>\n",
       "      <td>1.406335</td>\n",
       "      <td>-0.640302</td>\n",
       "    </tr>\n",
       "    <tr>\n",
       "      <th>4863</th>\n",
       "      <td>1.622774</td>\n",
       "      <td>0.702560</td>\n",
       "      <td>-1.449166</td>\n",
       "    </tr>\n",
       "    <tr>\n",
       "      <th>4864</th>\n",
       "      <td>-1.531993</td>\n",
       "      <td>-0.704989</td>\n",
       "      <td>0.168563</td>\n",
       "    </tr>\n",
       "    <tr>\n",
       "      <th>4865</th>\n",
       "      <td>0.928725</td>\n",
       "      <td>-0.704989</td>\n",
       "      <td>-0.409198</td>\n",
       "    </tr>\n",
       "  </tbody>\n",
       "</table>\n",
       "<p>4866 rows × 3 columns</p>\n",
       "</div>"
      ],
      "text/plain": [
       "             0         1         2\n",
       "0    -0.206991 -0.001215 -0.755854\n",
       "1    -1.027230  0.702560 -0.293646\n",
       "2    -0.143896  1.406335 -1.102510\n",
       "3     1.370392 -0.704989  0.168563\n",
       "4     0.234676  1.406335 -0.524750\n",
       "...        ...       ...       ...\n",
       "4861 -1.090326 -0.001215  0.630771\n",
       "4862 -1.090326  1.406335 -0.640302\n",
       "4863  1.622774  0.702560 -1.449166\n",
       "4864 -1.531993 -0.704989  0.168563\n",
       "4865  0.928725 -0.704989 -0.409198\n",
       "\n",
       "[4866 rows x 3 columns]"
      ]
     },
     "execution_count": 143,
     "metadata": {},
     "output_type": "execute_result"
    }
   ],
   "source": [
    "pd.DataFrame(X_train_1)"
   ]
  },
  {
   "cell_type": "code",
   "execution_count": 150,
   "metadata": {},
   "outputs": [
    {
     "data": {
      "text/plain": [
       "Text(0.5, 1.0, 'Y Preds vs Y Actual')"
      ]
     },
     "execution_count": 150,
     "metadata": {},
     "output_type": "execute_result"
    },
    {
     "data": {
      "image/png": "[encoded data removed]",
      "text/plain": [
       "<Figure size 720x576 with 1 Axes>"
      ]
     },
     "metadata": {},
     "output_type": "display_data"
    }
   ],
   "source": [
    "sns.set(rc={'figure.figsize':(10,8)})\n",
    "sns.regplot(x=df[\"Year\"][:len(Y_test_le)],y=Y_preds_lr, marker='x')\n",
    "sns.regplot(x=df[\"Year\"][:len(Y_test_le)],y=Y_test_le)\n",
    "plt.title(\"Y Preds vs Y Actual\",fontsize=16)"
   ]
  },
  {
   "cell_type": "code",
   "execution_count": null,
   "metadata": {},
   "outputs": [],
   "source": []
  }
 ],
 "metadata": {
  "kernelspec": {
   "display_name": "Python 3",
   "language": "python",
   "name": "python3"
  },
  "language_info": {
   "codemirror_mode": {
    "name": "ipython",
    "version": 3
   },
   "file_extension": ".py",
   "mimetype": "text/x-python",
   "name": "python",
   "nbconvert_exporter": "python",
   "pygments_lexer": "ipython3",
   "version": "3.8.5"
  }
 },
 "nbformat": 4,
 "nbformat_minor": 4
}
